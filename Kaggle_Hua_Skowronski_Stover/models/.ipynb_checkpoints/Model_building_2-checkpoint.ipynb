{
 "cells": [
  {
   "cell_type": "markdown",
   "metadata": {},
   "source": [
    "# Modeling Building V2"
   ]
  },
  {
   "cell_type": "markdown",
   "metadata": {},
   "source": [
    "## Import libraries"
   ]
  },
  {
   "cell_type": "code",
   "execution_count": 1,
   "metadata": {
    "scrolled": true
   },
   "outputs": [],
   "source": [
    "''' importing basic data analysis packages'''\n",
    "import numpy as np\n",
    "import pandas as pd\n",
    "import matplotlib.pyplot as plt\n",
    "import seaborn as sns\n",
    "%matplotlib inline\n",
    "import os,random, math, psutil, pickle \n",
    "import missingno as msno\n",
    "from datetime import timedelta \n",
    "import plotly.express as px\n",
    "import itertools\n",
    "\n",
    "'''For Stat'''\n",
    "import statsmodels.api as sm\n",
    "from scipy.stats import chi2_contingency\n",
    "\n",
    "\n",
    "''' For ML'''\n",
    "from sklearn import metrics, svm\n",
    "from sklearn.linear_model  import LogisticRegression\n",
    "from sklearn.metrics import mean_squared_error, r2_score\n",
    "from sklearn.linear_model import LinearRegression\n",
    "from sklearn.naive_bayes import GaussianNB, BernoulliNB, MultinomialNB\n",
    "from sklearn import preprocessing\n",
    "from sklearn import utils\n",
    "from sklearn.model_selection import train_test_split\n",
    "from sklearn.neighbors import KNeighborsClassifier\n",
    "from sklearn.model_selection import GridSearchCV\n",
    "from sklearn.impute import SimpleImputer\n",
    "from sklearn.ensemble import RandomForestRegressor"
   ]
  },
  {
   "cell_type": "code",
   "execution_count": 41,
   "metadata": {},
   "outputs": [],
   "source": [
    "'''Reading in data'''\n",
    "df = pd.read_pickle('tz_aware_merged_data_weather_imputed.pkl')"
   ]
  },
  {
   "cell_type": "markdown",
   "metadata": {},
   "source": [
    "## picking out relevant features"
   ]
  },
  {
   "cell_type": "code",
   "execution_count": 42,
   "metadata": {},
   "outputs": [
    {
     "data": {
      "text/plain": [
       "Index(['building_id', 'meter', 'timestamp', 'meter_reading', 'site_id',\n",
       "       'primary_use', 'square_feet', 'year_built', 'floor_count', 'time_index',\n",
       "       'day_of_week', 'hour_of_day', 'index', 'avg', 'std', 'outlier',\n",
       "       'air_temperature', 'cloud_coverage', 'dew_temperature',\n",
       "       'precip_depth_1_hr', 'sea_level_pressure', 'timestamp_utc',\n",
       "       'wind_direction', 'wind_speed', 'timezone', 'country_code', 'location',\n",
       "       'dst', 'local_time'],\n",
       "      dtype='object')"
      ]
     },
     "execution_count": 42,
     "metadata": {},
     "output_type": "execute_result"
    }
   ],
   "source": [
    "df.columns"
   ]
  },
  {
   "cell_type": "code",
   "execution_count": 43,
   "metadata": {},
   "outputs": [],
   "source": [
    "df_model = df[['building_id', 'timestamp', 'meter_reading', 'site_id', 'primary_use', 'square_feet', 'year_built',\\\n",
    "               'floor_count','day_of_week', 'hour_of_day','air_temperature', 'dew_temperature' ]]"
   ]
  },
  {
   "cell_type": "code",
   "execution_count": 44,
   "metadata": {},
   "outputs": [
    {
     "data": {
      "text/html": [
       "<div>\n",
       "<style scoped>\n",
       "    .dataframe tbody tr th:only-of-type {\n",
       "        vertical-align: middle;\n",
       "    }\n",
       "\n",
       "    .dataframe tbody tr th {\n",
       "        vertical-align: top;\n",
       "    }\n",
       "\n",
       "    .dataframe thead th {\n",
       "        text-align: right;\n",
       "    }\n",
       "</style>\n",
       "<table border=\"1\" class=\"dataframe\">\n",
       "  <thead>\n",
       "    <tr style=\"text-align: right;\">\n",
       "      <th></th>\n",
       "      <th>building_id</th>\n",
       "      <th>timestamp</th>\n",
       "      <th>meter_reading</th>\n",
       "      <th>site_id</th>\n",
       "      <th>primary_use</th>\n",
       "      <th>square_feet</th>\n",
       "      <th>year_built</th>\n",
       "      <th>floor_count</th>\n",
       "      <th>day_of_week</th>\n",
       "      <th>hour_of_day</th>\n",
       "      <th>air_temperature</th>\n",
       "      <th>dew_temperature</th>\n",
       "    </tr>\n",
       "  </thead>\n",
       "  <tbody>\n",
       "    <tr>\n",
       "      <th>0</th>\n",
       "      <td>0</td>\n",
       "      <td>2016-01-01</td>\n",
       "      <td>220.046471</td>\n",
       "      <td>0</td>\n",
       "      <td>Education</td>\n",
       "      <td>7432</td>\n",
       "      <td>2008.0</td>\n",
       "      <td>8.0</td>\n",
       "      <td>4</td>\n",
       "      <td>0</td>\n",
       "      <td>19.4</td>\n",
       "      <td>19.4</td>\n",
       "    </tr>\n",
       "    <tr>\n",
       "      <th>1</th>\n",
       "      <td>1</td>\n",
       "      <td>2016-01-01</td>\n",
       "      <td>101.917963</td>\n",
       "      <td>0</td>\n",
       "      <td>Education</td>\n",
       "      <td>2720</td>\n",
       "      <td>2004.0</td>\n",
       "      <td>5.0</td>\n",
       "      <td>4</td>\n",
       "      <td>0</td>\n",
       "      <td>19.4</td>\n",
       "      <td>19.4</td>\n",
       "    </tr>\n",
       "    <tr>\n",
       "      <th>2</th>\n",
       "      <td>2</td>\n",
       "      <td>2016-01-01</td>\n",
       "      <td>5.634698</td>\n",
       "      <td>0</td>\n",
       "      <td>Education</td>\n",
       "      <td>5376</td>\n",
       "      <td>1991.0</td>\n",
       "      <td>4.0</td>\n",
       "      <td>4</td>\n",
       "      <td>0</td>\n",
       "      <td>19.4</td>\n",
       "      <td>19.4</td>\n",
       "    </tr>\n",
       "    <tr>\n",
       "      <th>3</th>\n",
       "      <td>3</td>\n",
       "      <td>2016-01-01</td>\n",
       "      <td>366.496399</td>\n",
       "      <td>0</td>\n",
       "      <td>Education</td>\n",
       "      <td>23685</td>\n",
       "      <td>2002.0</td>\n",
       "      <td>10.0</td>\n",
       "      <td>4</td>\n",
       "      <td>0</td>\n",
       "      <td>19.4</td>\n",
       "      <td>19.4</td>\n",
       "    </tr>\n",
       "    <tr>\n",
       "      <th>4</th>\n",
       "      <td>4</td>\n",
       "      <td>2016-01-01</td>\n",
       "      <td>1568.406545</td>\n",
       "      <td>0</td>\n",
       "      <td>Education</td>\n",
       "      <td>116607</td>\n",
       "      <td>1975.0</td>\n",
       "      <td>1.0</td>\n",
       "      <td>4</td>\n",
       "      <td>0</td>\n",
       "      <td>19.4</td>\n",
       "      <td>19.4</td>\n",
       "    </tr>\n",
       "  </tbody>\n",
       "</table>\n",
       "</div>"
      ],
      "text/plain": [
       "   building_id  timestamp  meter_reading  site_id primary_use  square_feet  \\\n",
       "0            0 2016-01-01     220.046471        0   Education         7432   \n",
       "1            1 2016-01-01     101.917963        0   Education         2720   \n",
       "2            2 2016-01-01       5.634698        0   Education         5376   \n",
       "3            3 2016-01-01     366.496399        0   Education        23685   \n",
       "4            4 2016-01-01    1568.406545        0   Education       116607   \n",
       "\n",
       "   year_built  floor_count  day_of_week  hour_of_day  air_temperature  \\\n",
       "0      2008.0          8.0            4            0             19.4   \n",
       "1      2004.0          5.0            4            0             19.4   \n",
       "2      1991.0          4.0            4            0             19.4   \n",
       "3      2002.0         10.0            4            0             19.4   \n",
       "4      1975.0          1.0            4            0             19.4   \n",
       "\n",
       "   dew_temperature  \n",
       "0             19.4  \n",
       "1             19.4  \n",
       "2             19.4  \n",
       "3             19.4  \n",
       "4             19.4  "
      ]
     },
     "execution_count": 44,
     "metadata": {},
     "output_type": "execute_result"
    }
   ],
   "source": [
    "df_model.head()"
   ]
  },
  {
   "cell_type": "code",
   "execution_count": 45,
   "metadata": {
    "scrolled": true
   },
   "outputs": [
    {
     "data": {
      "text/plain": [
       "building_id        0\n",
       "timestamp          0\n",
       "meter_reading      0\n",
       "site_id            0\n",
       "primary_use        0\n",
       "square_feet        0\n",
       "year_built         0\n",
       "floor_count        0\n",
       "day_of_week        0\n",
       "hour_of_day        0\n",
       "air_temperature    0\n",
       "dew_temperature    0\n",
       "dtype: int64"
      ]
     },
     "execution_count": 45,
     "metadata": {},
     "output_type": "execute_result"
    }
   ],
   "source": [
    "df_model.isna().sum(axis = 0)"
   ]
  },
  {
   "cell_type": "code",
   "execution_count": 46,
   "metadata": {},
   "outputs": [],
   "source": [
    "# We decided to exclude buidling_id and timestamp \n",
    "df = df.drop(columns = ['building_id','timestamp'])"
   ]
  },
  {
   "cell_type": "markdown",
   "metadata": {},
   "source": [
    "### Correlations "
   ]
  },
  {
   "cell_type": "code",
   "execution_count": 47,
   "metadata": {},
   "outputs": [],
   "source": [
    "# Numeric variables\n",
    "num_var = df[['meter_reading', 'square_feet', 'year_built', 'floor_count','air_temperature', 'dew_temperature' ]]\n"
   ]
  },
  {
   "cell_type": "code",
   "execution_count": 48,
   "metadata": {
    "scrolled": false
   },
   "outputs": [
    {
     "data": {
      "text/plain": [
       "<matplotlib.axes._subplots.AxesSubplot at 0x2a4ae917438>"
      ]
     },
     "execution_count": 48,
     "metadata": {},
     "output_type": "execute_result"
    },
    {
     "data": {
      "image/png": "[encoded data removed]",
      "text/plain": [
       "<Figure size 792x648 with 2 Axes>"
      ]
     },
     "metadata": {
      "needs_background": "light"
     },
     "output_type": "display_data"
    }
   ],
   "source": [
    "'''Correlation with numeric variables'''\n",
    "# Compute the correlation matrix\n",
    "corr = num_var.corr()\n",
    "# Generate a mask for the upper triangle\n",
    "mask = np.zeros_like(corr, dtype=np.bool)\n",
    "mask[np.triu_indices_from(mask)] = True\n",
    "# Set up the matplotlib figure\n",
    "f, ax = plt.subplots(figsize=(11, 9))\n",
    "# Generate a custom diverging colormap\n",
    "cmap = sns.diverging_palette(220, 10, as_cmap=True)\n",
    "sns.diverging_palette(220, 20, as_cmap=True)\n",
    "# Draw the heatmap with the mask and correct aspect ratio\n",
    "sns.heatmap(corr, mask=mask, cmap=cmap, vmax=.3, center=0,\n",
    "            square=True, linewidths=.5, cbar_kws={\"shrink\": .5}, annot = True)"
   ]
  },
  {
   "cell_type": "code",
   "execution_count": 49,
   "metadata": {},
   "outputs": [],
   "source": [
    "'''Correlation with categorical variables'''\n",
    "def cramers_corrected_stat(confusion_matrix):\n",
    "    chi2 = chi2_contingency(confusion_matrix)[0]\n",
    "    n = confusion_matrix.sum().sum()\n",
    "    phi2 = chi2/n\n",
    "    r,k = confusion_matrix.shape\n",
    "    phi2corr = max(0, phi2 - ((k-1)*(r-1))/(n-1))    \n",
    "    rcorr = r - ((r-1)**2)/(n-1)\n",
    "    kcorr = k - ((k-1)**2)/(n-1)\n",
    "    return np.sqrt(phi2corr / min( (kcorr-1), (rcorr-1)))"
   ]
  },
  {
   "cell_type": "code",
   "execution_count": 50,
   "metadata": {},
   "outputs": [],
   "source": [
    "cols = ['meter_reading','primary_use','site_id','day_of_week', 'hour_of_day']\n",
    "corrM = np.zeros((len(cols),len(cols)))\n",
    "# there's probably a nice pandas way to do this\n",
    "for col1, col2 in itertools.combinations(cols, 2):\n",
    "    idx1, idx2 = cols.index(col1), cols.index(col2)\n",
    "    corrM[idx1, idx2] = cramers_corrected_stat(pd.crosstab(df[col1], df[col2]))\n",
    "    corrM[idx2, idx1] = corrM[idx1, idx2]"
   ]
  },
  {
   "cell_type": "code",
   "execution_count": 51,
   "metadata": {},
   "outputs": [
    {
     "data": {
      "text/plain": [
       "<matplotlib.axes._subplots.AxesSubplot at 0x2a4ae9e2b00>"
      ]
     },
     "execution_count": 51,
     "metadata": {},
     "output_type": "execute_result"
    },
    {
     "data": {
      "image/png": "[encoded data removed]",
      "text/plain": [
       "<Figure size 792x648 with 2 Axes>"
      ]
     },
     "metadata": {
      "needs_background": "light"
     },
     "output_type": "display_data"
    }
   ],
   "source": [
    "# Compute the correlation matrix\n",
    "corr2 = pd.DataFrame(corrM, index=cols, columns=cols)\n",
    "# Generate a mask for the upper triangle\n",
    "mask = np.zeros_like(corr2, dtype=np.bool)\n",
    "mask[np.triu_indices_from(mask)] = True\n",
    "# Set up the matplotlib figure\n",
    "f, ax = plt.subplots(figsize=(11, 9))\n",
    "# Generate a custom diverging colormap\n",
    "cmap = sns.diverging_palette(220, 10, as_cmap=True)\n",
    "# Draw the heatmap with the mask and correct aspect ratio\n",
    "sns.heatmap(corr2, mask=mask, cmap=cmap, vmax=.3, center=0,\n",
    "            square=True, linewidths=.5, cbar_kws={\"shrink\": .5}, annot = True)"
   ]
  },
  {
   "cell_type": "markdown",
   "metadata": {},
   "source": [
    "NOte: https://stackoverflow.com/questions/51859894/how-to-plot-a-cramer-s-v-heatmap-for-categorical-features\n",
    "\n"
   ]
  },
  {
   "cell_type": "markdown",
   "metadata": {},
   "source": [
    "### Split data into training and test "
   ]
  },
  {
   "cell_type": "code",
   "execution_count": 58,
   "metadata": {},
   "outputs": [],
   "source": [
    "df_model_1_X = df.loc[:,~df.columns.isin(['meter_reading'])]\n",
    "df_model_1_y = df.loc[:,df.columns.isin(['meter_reading'])]"
   ]
  },
  {
   "cell_type": "code",
   "execution_count": 59,
   "metadata": {},
   "outputs": [],
   "source": [
    "# spliting the clean dataset into 70/30 for training/ test\n",
    "X_train, X_test, y_train, y_test = train_test_split(df_model_1_X, df_model_1_y, test_size=0.3, random_state=1)"
   ]
  },
  {
   "cell_type": "markdown",
   "metadata": {},
   "source": [
    "###  Model building"
   ]
  },
  {
   "cell_type": "markdown",
   "metadata": {},
   "source": [
    "### Regression 1: The simpliest model  (using stat library and not sklearn)"
   ]
  },
  {
   "cell_type": "markdown",
   "metadata": {},
   "source": [
    "Based on correlation above, we decided to first build a simple model with fewest key variables - square_feet, floor_count, primary_use, site_id, day_of_week, hour_of_day. \n",
    "\n"
   ]
  },
  {
   "cell_type": "code",
   "execution_count": 66,
   "metadata": {
    "scrolled": true
   },
   "outputs": [
    {
     "data": {
      "text/plain": [
       "Index(['meter', 'site_id', 'primary_use', 'square_feet', 'year_built',\n",
       "       'floor_count', 'time_index', 'day_of_week', 'hour_of_day', 'index',\n",
       "       'avg', 'std', 'outlier', 'air_temperature', 'cloud_coverage',\n",
       "       'dew_temperature', 'precip_depth_1_hr', 'sea_level_pressure',\n",
       "       'timestamp_utc', 'wind_direction', 'wind_speed', 'timezone',\n",
       "       'country_code', 'location', 'dst', 'local_time'],\n",
       "      dtype='object')"
      ]
     },
     "execution_count": 66,
     "metadata": {},
     "output_type": "execute_result"
    }
   ],
   "source": [
    "X_train.columns"
   ]
  },
  {
   "cell_type": "code",
   "execution_count": 70,
   "metadata": {},
   "outputs": [],
   "source": [
    "# Picking out x-variables we want to explore\n",
    "X_train_a = X_train[['square_feet', 'floor_count', 'primary_use','site_id', 'day_of_week','hour_of_day']]\n",
    "X_test_a = X_test[['square_feet', 'floor_count', 'primary_use','site_id', 'day_of_week', 'hour_of_day']]\n",
    "\n",
    "# converting categorical data into dummy variables\n",
    "X_train_a = pd.get_dummies (X_train_a, columns = ['primary_use','site_id','day_of_week', 'hour_of_day'])\n",
    "X_test_a = pd.get_dummies (X_test_a, columns = ['primary_use','site_id','day_of_week', 'hour_of_day'])\n",
    "\n",
    "# Dropping one categorical dummy variables\n",
    "X_train_a= X_train_a.drop(columns = ['primary_use_Warehouse/storage', 'site_id_15', 'day_of_week_6', 'hour_of_day_23' ])\n",
    "X_test_a= X_test_a.drop(columns = ['primary_use_Warehouse/storage', 'site_id_15', 'day_of_week_6', 'hour_of_day_23' ])"
   ]
  },
  {
   "cell_type": "code",
   "execution_count": 71,
   "metadata": {
    "scrolled": false
   },
   "outputs": [
    {
     "data": {
      "text/html": [
       "<table class=\"simpletable\">\n",
       "<caption>OLS Regression Results</caption>\n",
       "<tr>\n",
       "  <th>Dep. Variable:</th>      <td>meter_reading</td>  <th>  R-squared (uncentered):</th>       <td>   0.643</td>  \n",
       "</tr>\n",
       "<tr>\n",
       "  <th>Model:</th>                   <td>OLS</td>       <th>  Adj. R-squared (uncentered):</th>  <td>   0.643</td>  \n",
       "</tr>\n",
       "<tr>\n",
       "  <th>Method:</th>             <td>Least Squares</td>  <th>  F-statistic:       </th>           <td>2.498e+05</td> \n",
       "</tr>\n",
       "<tr>\n",
       "  <th>Date:</th>             <td>Sun, 08 Dec 2019</td> <th>  Prob (F-statistic):</th>            <td>  0.00</td>   \n",
       "</tr>\n",
       "<tr>\n",
       "  <th>Time:</th>                 <td>20:38:51</td>     <th>  Log-Likelihood:    </th>          <td>-5.9060e+07</td>\n",
       "</tr>\n",
       "<tr>\n",
       "  <th>No. Observations:</th>      <td>8443617</td>     <th>  AIC:               </th>           <td>1.181e+08</td> \n",
       "</tr>\n",
       "<tr>\n",
       "  <th>Df Residuals:</th>          <td>8443556</td>     <th>  BIC:               </th>           <td>1.181e+08</td> \n",
       "</tr>\n",
       "<tr>\n",
       "  <th>Df Model:</th>              <td>    61</td>      <th>                     </th>               <td> </td>     \n",
       "</tr>\n",
       "<tr>\n",
       "  <th>Covariance Type:</th>      <td>nonrobust</td>    <th>                     </th>               <td> </td>     \n",
       "</tr>\n",
       "</table>\n",
       "<table class=\"simpletable\">\n",
       "<tr>\n",
       "                      <td></td>                         <th>coef</th>     <th>std err</th>      <th>t</th>      <th>P>|t|</th>  <th>[0.025</th>    <th>0.975]</th>  \n",
       "</tr>\n",
       "<tr>\n",
       "  <th>square_feet</th>                               <td>    0.0015</td> <td> 9.57e-07</td> <td> 1530.127</td> <td> 0.000</td> <td>    0.001</td> <td>    0.001</td>\n",
       "</tr>\n",
       "<tr>\n",
       "  <th>floor_count</th>                               <td>   32.8750</td> <td>    0.037</td> <td>  881.663</td> <td> 0.000</td> <td>   32.802</td> <td>   32.948</td>\n",
       "</tr>\n",
       "<tr>\n",
       "  <th>primary_use_Education</th>                     <td>  -47.7498</td> <td>    0.542</td> <td>  -88.096</td> <td> 0.000</td> <td>  -48.812</td> <td>  -46.687</td>\n",
       "</tr>\n",
       "<tr>\n",
       "  <th>primary_use_Entertainment/public assembly</th> <td>  -74.1123</td> <td>    0.575</td> <td> -128.924</td> <td> 0.000</td> <td>  -75.239</td> <td>  -72.986</td>\n",
       "</tr>\n",
       "<tr>\n",
       "  <th>primary_use_Food sales and service</th>        <td>  -24.7190</td> <td>    1.601</td> <td>  -15.443</td> <td> 0.000</td> <td>  -27.856</td> <td>  -21.582</td>\n",
       "</tr>\n",
       "<tr>\n",
       "  <th>primary_use_Healthcare</th>                    <td>    8.4483</td> <td>    0.920</td> <td>    9.181</td> <td> 0.000</td> <td>    6.645</td> <td>   10.252</td>\n",
       "</tr>\n",
       "<tr>\n",
       "  <th>primary_use_Lodging/residential</th>           <td> -130.0384</td> <td>    0.577</td> <td> -225.426</td> <td> 0.000</td> <td> -131.169</td> <td> -128.908</td>\n",
       "</tr>\n",
       "<tr>\n",
       "  <th>primary_use_Manufacturing/industrial</th>      <td>  -43.4992</td> <td>    1.200</td> <td>  -36.250</td> <td> 0.000</td> <td>  -45.851</td> <td>  -41.147</td>\n",
       "</tr>\n",
       "<tr>\n",
       "  <th>primary_use_Office</th>                        <td>  -74.2938</td> <td>    0.557</td> <td> -133.286</td> <td> 0.000</td> <td>  -75.386</td> <td>  -73.201</td>\n",
       "</tr>\n",
       "<tr>\n",
       "  <th>primary_use_Other</th>                         <td>  -82.7730</td> <td>    0.877</td> <td>  -94.336</td> <td> 0.000</td> <td>  -84.493</td> <td>  -81.053</td>\n",
       "</tr>\n",
       "<tr>\n",
       "  <th>primary_use_Parking</th>                       <td> -507.8268</td> <td>    0.938</td> <td> -541.508</td> <td> 0.000</td> <td> -509.665</td> <td> -505.989</td>\n",
       "</tr>\n",
       "<tr>\n",
       "  <th>primary_use_Public services</th>               <td>  -79.5380</td> <td>    0.596</td> <td> -133.473</td> <td> 0.000</td> <td>  -80.706</td> <td>  -78.370</td>\n",
       "</tr>\n",
       "<tr>\n",
       "  <th>primary_use_Religious worship</th>             <td>    3.0380</td> <td>    2.054</td> <td>    1.479</td> <td> 0.139</td> <td>   -0.987</td> <td>    7.063</td>\n",
       "</tr>\n",
       "<tr>\n",
       "  <th>primary_use_Retail</th>                        <td>  -43.0273</td> <td>    1.165</td> <td>  -36.938</td> <td> 0.000</td> <td>  -45.310</td> <td>  -40.744</td>\n",
       "</tr>\n",
       "<tr>\n",
       "  <th>primary_use_Services</th>                      <td> -327.9847</td> <td>    1.261</td> <td> -260.061</td> <td> 0.000</td> <td> -330.457</td> <td> -325.513</td>\n",
       "</tr>\n",
       "<tr>\n",
       "  <th>primary_use_Technology/science</th>            <td>  -98.8492</td> <td>    1.574</td> <td>  -62.786</td> <td> 0.000</td> <td> -101.935</td> <td>  -95.763</td>\n",
       "</tr>\n",
       "<tr>\n",
       "  <th>primary_use_Utility</th>                       <td>   51.8896</td> <td>    1.819</td> <td>   28.524</td> <td> 0.000</td> <td>   48.324</td> <td>   55.455</td>\n",
       "</tr>\n",
       "<tr>\n",
       "  <th>site_id_0</th>                                 <td>   94.4551</td> <td>    0.517</td> <td>  182.648</td> <td> 0.000</td> <td>   93.442</td> <td>   95.469</td>\n",
       "</tr>\n",
       "<tr>\n",
       "  <th>site_id_1</th>                                 <td> -102.5742</td> <td>    0.604</td> <td> -169.908</td> <td> 0.000</td> <td> -103.757</td> <td> -101.391</td>\n",
       "</tr>\n",
       "<tr>\n",
       "  <th>site_id_2</th>                                 <td> -127.4396</td> <td>    0.456</td> <td> -279.248</td> <td> 0.000</td> <td> -128.334</td> <td> -126.545</td>\n",
       "</tr>\n",
       "<tr>\n",
       "  <th>site_id_3</th>                                 <td>  -89.2147</td> <td>    0.409</td> <td> -218.319</td> <td> 0.000</td> <td>  -90.016</td> <td>  -88.414</td>\n",
       "</tr>\n",
       "<tr>\n",
       "  <th>site_id_4</th>                                 <td>  -80.9352</td> <td>    0.509</td> <td> -158.867</td> <td> 0.000</td> <td>  -81.934</td> <td>  -79.937</td>\n",
       "</tr>\n",
       "<tr>\n",
       "  <th>site_id_5</th>                                 <td>  -68.0907</td> <td>    0.493</td> <td> -138.006</td> <td> 0.000</td> <td>  -69.058</td> <td>  -67.124</td>\n",
       "</tr>\n",
       "<tr>\n",
       "  <th>site_id_6</th>                                 <td>   -2.0720</td> <td>    0.653</td> <td>   -3.172</td> <td> 0.002</td> <td>   -3.352</td> <td>   -0.792</td>\n",
       "</tr>\n",
       "<tr>\n",
       "  <th>site_id_7</th>                                 <td> 1564.3199</td> <td>    1.078</td> <td> 1450.809</td> <td> 0.000</td> <td> 1562.207</td> <td> 1566.433</td>\n",
       "</tr>\n",
       "<tr>\n",
       "  <th>site_id_8</th>                                 <td>   49.9994</td> <td>    0.561</td> <td>   89.067</td> <td> 0.000</td> <td>   48.899</td> <td>   51.100</td>\n",
       "</tr>\n",
       "<tr>\n",
       "  <th>site_id_9</th>                                 <td>  -27.7451</td> <td>    0.458</td> <td>  -60.548</td> <td> 0.000</td> <td>  -28.643</td> <td>  -26.847</td>\n",
       "</tr>\n",
       "<tr>\n",
       "  <th>site_id_10</th>                                <td>  -34.0888</td> <td>    0.734</td> <td>  -46.450</td> <td> 0.000</td> <td>  -35.527</td> <td>  -32.650</td>\n",
       "</tr>\n",
       "<tr>\n",
       "  <th>site_id_11</th>                                <td>   29.7258</td> <td>    1.556</td> <td>   19.109</td> <td> 0.000</td> <td>   26.677</td> <td>   32.775</td>\n",
       "</tr>\n",
       "<tr>\n",
       "  <th>site_id_12</th>                                <td>  -58.0217</td> <td>    0.663</td> <td>  -87.574</td> <td> 0.000</td> <td>  -59.320</td> <td>  -56.723</td>\n",
       "</tr>\n",
       "<tr>\n",
       "  <th>site_id_13</th>                                <td>   48.1826</td> <td>    0.448</td> <td>  107.612</td> <td> 0.000</td> <td>   47.305</td> <td>   49.060</td>\n",
       "</tr>\n",
       "<tr>\n",
       "  <th>site_id_14</th>                                <td>   20.8626</td> <td>    0.482</td> <td>   43.288</td> <td> 0.000</td> <td>   19.918</td> <td>   21.807</td>\n",
       "</tr>\n",
       "<tr>\n",
       "  <th>day_of_week_0</th>                             <td>   18.7560</td> <td>    0.337</td> <td>   55.598</td> <td> 0.000</td> <td>   18.095</td> <td>   19.417</td>\n",
       "</tr>\n",
       "<tr>\n",
       "  <th>day_of_week_1</th>                             <td>   22.1219</td> <td>    0.337</td> <td>   65.608</td> <td> 0.000</td> <td>   21.461</td> <td>   22.783</td>\n",
       "</tr>\n",
       "<tr>\n",
       "  <th>day_of_week_2</th>                             <td>   22.3234</td> <td>    0.337</td> <td>   66.220</td> <td> 0.000</td> <td>   21.663</td> <td>   22.984</td>\n",
       "</tr>\n",
       "<tr>\n",
       "  <th>day_of_week_3</th>                             <td>   21.1828</td> <td>    0.337</td> <td>   62.827</td> <td> 0.000</td> <td>   20.522</td> <td>   21.844</td>\n",
       "</tr>\n",
       "<tr>\n",
       "  <th>day_of_week_4</th>                             <td>   16.8789</td> <td>    0.336</td> <td>   50.294</td> <td> 0.000</td> <td>   16.221</td> <td>   17.537</td>\n",
       "</tr>\n",
       "<tr>\n",
       "  <th>day_of_week_5</th>                             <td>   -2.1753</td> <td>    0.336</td> <td>   -6.483</td> <td> 0.000</td> <td>   -2.833</td> <td>   -1.518</td>\n",
       "</tr>\n",
       "<tr>\n",
       "  <th>hour_of_day_0</th>                             <td>  -22.6724</td> <td>    0.606</td> <td>  -37.432</td> <td> 0.000</td> <td>  -23.860</td> <td>  -21.485</td>\n",
       "</tr>\n",
       "<tr>\n",
       "  <th>hour_of_day_1</th>                             <td>  -23.0277</td> <td>    0.606</td> <td>  -37.997</td> <td> 0.000</td> <td>  -24.216</td> <td>  -21.840</td>\n",
       "</tr>\n",
       "<tr>\n",
       "  <th>hour_of_day_2</th>                             <td>  -26.8543</td> <td>    0.605</td> <td>  -44.351</td> <td> 0.000</td> <td>  -28.041</td> <td>  -25.668</td>\n",
       "</tr>\n",
       "<tr>\n",
       "  <th>hour_of_day_3</th>                             <td>  -27.3923</td> <td>    0.606</td> <td>  -45.238</td> <td> 0.000</td> <td>  -28.579</td> <td>  -26.205</td>\n",
       "</tr>\n",
       "<tr>\n",
       "  <th>hour_of_day_4</th>                             <td>  -26.4745</td> <td>    0.606</td> <td>  -43.707</td> <td> 0.000</td> <td>  -27.662</td> <td>  -25.287</td>\n",
       "</tr>\n",
       "<tr>\n",
       "  <th>hour_of_day_5</th>                             <td>  -22.2040</td> <td>    0.606</td> <td>  -36.665</td> <td> 0.000</td> <td>  -23.391</td> <td>  -21.017</td>\n",
       "</tr>\n",
       "<tr>\n",
       "  <th>hour_of_day_6</th>                             <td>  -14.6543</td> <td>    0.606</td> <td>  -24.190</td> <td> 0.000</td> <td>  -15.842</td> <td>  -13.467</td>\n",
       "</tr>\n",
       "<tr>\n",
       "  <th>hour_of_day_7</th>                             <td>   -5.5404</td> <td>    0.606</td> <td>   -9.147</td> <td> 0.000</td> <td>   -6.728</td> <td>   -4.353</td>\n",
       "</tr>\n",
       "<tr>\n",
       "  <th>hour_of_day_8</th>                             <td>    3.2991</td> <td>    0.606</td> <td>    5.447</td> <td> 0.000</td> <td>    2.112</td> <td>    4.486</td>\n",
       "</tr>\n",
       "<tr>\n",
       "  <th>hour_of_day_9</th>                             <td>   10.3001</td> <td>    0.606</td> <td>   17.005</td> <td> 0.000</td> <td>    9.113</td> <td>   11.487</td>\n",
       "</tr>\n",
       "<tr>\n",
       "  <th>hour_of_day_10</th>                            <td>   16.2043</td> <td>    0.606</td> <td>   26.746</td> <td> 0.000</td> <td>   15.017</td> <td>   17.392</td>\n",
       "</tr>\n",
       "<tr>\n",
       "  <th>hour_of_day_11</th>                            <td>   19.6645</td> <td>    0.606</td> <td>   32.473</td> <td> 0.000</td> <td>   18.478</td> <td>   20.851</td>\n",
       "</tr>\n",
       "<tr>\n",
       "  <th>hour_of_day_12</th>                            <td>   22.5626</td> <td>    0.606</td> <td>   37.235</td> <td> 0.000</td> <td>   21.375</td> <td>   23.750</td>\n",
       "</tr>\n",
       "<tr>\n",
       "  <th>hour_of_day_13</th>                            <td>   23.3570</td> <td>    0.606</td> <td>   38.558</td> <td> 0.000</td> <td>   22.170</td> <td>   24.544</td>\n",
       "</tr>\n",
       "<tr>\n",
       "  <th>hour_of_day_14</th>                            <td>   24.0226</td> <td>    0.606</td> <td>   39.667</td> <td> 0.000</td> <td>   22.836</td> <td>   25.210</td>\n",
       "</tr>\n",
       "<tr>\n",
       "  <th>hour_of_day_15</th>                            <td>   23.3528</td> <td>    0.606</td> <td>   38.539</td> <td> 0.000</td> <td>   22.165</td> <td>   24.540</td>\n",
       "</tr>\n",
       "<tr>\n",
       "  <th>hour_of_day_16</th>                            <td>   19.7925</td> <td>    0.606</td> <td>   32.654</td> <td> 0.000</td> <td>   18.604</td> <td>   20.980</td>\n",
       "</tr>\n",
       "<tr>\n",
       "  <th>hour_of_day_17</th>                            <td>   13.3536</td> <td>    0.606</td> <td>   22.042</td> <td> 0.000</td> <td>   12.166</td> <td>   14.541</td>\n",
       "</tr>\n",
       "<tr>\n",
       "  <th>hour_of_day_18</th>                            <td>    5.7862</td> <td>    0.606</td> <td>    9.555</td> <td> 0.000</td> <td>    4.599</td> <td>    6.973</td>\n",
       "</tr>\n",
       "<tr>\n",
       "  <th>hour_of_day_19</th>                            <td>    0.9422</td> <td>    0.606</td> <td>    1.556</td> <td> 0.120</td> <td>   -0.245</td> <td>    2.129</td>\n",
       "</tr>\n",
       "<tr>\n",
       "  <th>hour_of_day_20</th>                            <td>   -4.2756</td> <td>    0.605</td> <td>   -7.062</td> <td> 0.000</td> <td>   -5.462</td> <td>   -3.089</td>\n",
       "</tr>\n",
       "<tr>\n",
       "  <th>hour_of_day_21</th>                            <td>   -9.0023</td> <td>    0.606</td> <td>  -14.859</td> <td> 0.000</td> <td>  -10.190</td> <td>   -7.815</td>\n",
       "</tr>\n",
       "<tr>\n",
       "  <th>hour_of_day_22</th>                            <td>  -13.6523</td> <td>    0.606</td> <td>  -22.532</td> <td> 0.000</td> <td>  -14.840</td> <td>  -12.465</td>\n",
       "</tr>\n",
       "</table>\n",
       "<table class=\"simpletable\">\n",
       "<tr>\n",
       "  <th>Omnibus:</th>       <td>15018000.811</td> <th>  Durbin-Watson:     </th>     <td>   2.000</td>    \n",
       "</tr>\n",
       "<tr>\n",
       "  <th>Prob(Omnibus):</th>    <td> 0.000</td>    <th>  Jarque-Bera (JB):  </th> <td>597676241107.083</td>\n",
       "</tr>\n",
       "<tr>\n",
       "  <th>Skew:</th>             <td>11.506</td>    <th>  Prob(JB):          </th>     <td>    0.00</td>    \n",
       "</tr>\n",
       "<tr>\n",
       "  <th>Kurtosis:</th>        <td>1306.187</td>   <th>  Cond. No.          </th>     <td>4.38e+06</td>    \n",
       "</tr>\n",
       "</table><br/><br/>Warnings:<br/>[1] Standard Errors assume that the covariance matrix of the errors is correctly specified.<br/>[2] The condition number is large, 4.38e+06. This might indicate that there are<br/>strong multicollinearity or other numerical problems."
      ],
      "text/plain": [
       "<class 'statsmodels.iolib.summary.Summary'>\n",
       "\"\"\"\n",
       "                                 OLS Regression Results                                \n",
       "=======================================================================================\n",
       "Dep. Variable:          meter_reading   R-squared (uncentered):                   0.643\n",
       "Model:                            OLS   Adj. R-squared (uncentered):              0.643\n",
       "Method:                 Least Squares   F-statistic:                          2.498e+05\n",
       "Date:                Sun, 08 Dec 2019   Prob (F-statistic):                        0.00\n",
       "Time:                        20:38:51   Log-Likelihood:                     -5.9060e+07\n",
       "No. Observations:             8443617   AIC:                                  1.181e+08\n",
       "Df Residuals:                 8443556   BIC:                                  1.181e+08\n",
       "Df Model:                          61                                                  \n",
       "Covariance Type:            nonrobust                                                  \n",
       "=============================================================================================================\n",
       "                                                coef    std err          t      P>|t|      [0.025      0.975]\n",
       "-------------------------------------------------------------------------------------------------------------\n",
       "square_feet                                   0.0015   9.57e-07   1530.127      0.000       0.001       0.001\n",
       "floor_count                                  32.8750      0.037    881.663      0.000      32.802      32.948\n",
       "primary_use_Education                       -47.7498      0.542    -88.096      0.000     -48.812     -46.687\n",
       "primary_use_Entertainment/public assembly   -74.1123      0.575   -128.924      0.000     -75.239     -72.986\n",
       "primary_use_Food sales and service          -24.7190      1.601    -15.443      0.000     -27.856     -21.582\n",
       "primary_use_Healthcare                        8.4483      0.920      9.181      0.000       6.645      10.252\n",
       "primary_use_Lodging/residential            -130.0384      0.577   -225.426      0.000    -131.169    -128.908\n",
       "primary_use_Manufacturing/industrial        -43.4992      1.200    -36.250      0.000     -45.851     -41.147\n",
       "primary_use_Office                          -74.2938      0.557   -133.286      0.000     -75.386     -73.201\n",
       "primary_use_Other                           -82.7730      0.877    -94.336      0.000     -84.493     -81.053\n",
       "primary_use_Parking                        -507.8268      0.938   -541.508      0.000    -509.665    -505.989\n",
       "primary_use_Public services                 -79.5380      0.596   -133.473      0.000     -80.706     -78.370\n",
       "primary_use_Religious worship                 3.0380      2.054      1.479      0.139      -0.987       7.063\n",
       "primary_use_Retail                          -43.0273      1.165    -36.938      0.000     -45.310     -40.744\n",
       "primary_use_Services                       -327.9847      1.261   -260.061      0.000    -330.457    -325.513\n",
       "primary_use_Technology/science              -98.8492      1.574    -62.786      0.000    -101.935     -95.763\n",
       "primary_use_Utility                          51.8896      1.819     28.524      0.000      48.324      55.455\n",
       "site_id_0                                    94.4551      0.517    182.648      0.000      93.442      95.469\n",
       "site_id_1                                  -102.5742      0.604   -169.908      0.000    -103.757    -101.391\n",
       "site_id_2                                  -127.4396      0.456   -279.248      0.000    -128.334    -126.545\n",
       "site_id_3                                   -89.2147      0.409   -218.319      0.000     -90.016     -88.414\n",
       "site_id_4                                   -80.9352      0.509   -158.867      0.000     -81.934     -79.937\n",
       "site_id_5                                   -68.0907      0.493   -138.006      0.000     -69.058     -67.124\n",
       "site_id_6                                    -2.0720      0.653     -3.172      0.002      -3.352      -0.792\n",
       "site_id_7                                  1564.3199      1.078   1450.809      0.000    1562.207    1566.433\n",
       "site_id_8                                    49.9994      0.561     89.067      0.000      48.899      51.100\n",
       "site_id_9                                   -27.7451      0.458    -60.548      0.000     -28.643     -26.847\n",
       "site_id_10                                  -34.0888      0.734    -46.450      0.000     -35.527     -32.650\n",
       "site_id_11                                   29.7258      1.556     19.109      0.000      26.677      32.775\n",
       "site_id_12                                  -58.0217      0.663    -87.574      0.000     -59.320     -56.723\n",
       "site_id_13                                   48.1826      0.448    107.612      0.000      47.305      49.060\n",
       "site_id_14                                   20.8626      0.482     43.288      0.000      19.918      21.807\n",
       "day_of_week_0                                18.7560      0.337     55.598      0.000      18.095      19.417\n",
       "day_of_week_1                                22.1219      0.337     65.608      0.000      21.461      22.783\n",
       "day_of_week_2                                22.3234      0.337     66.220      0.000      21.663      22.984\n",
       "day_of_week_3                                21.1828      0.337     62.827      0.000      20.522      21.844\n",
       "day_of_week_4                                16.8789      0.336     50.294      0.000      16.221      17.537\n",
       "day_of_week_5                                -2.1753      0.336     -6.483      0.000      -2.833      -1.518\n",
       "hour_of_day_0                               -22.6724      0.606    -37.432      0.000     -23.860     -21.485\n",
       "hour_of_day_1                               -23.0277      0.606    -37.997      0.000     -24.216     -21.840\n",
       "hour_of_day_2                               -26.8543      0.605    -44.351      0.000     -28.041     -25.668\n",
       "hour_of_day_3                               -27.3923      0.606    -45.238      0.000     -28.579     -26.205\n",
       "hour_of_day_4                               -26.4745      0.606    -43.707      0.000     -27.662     -25.287\n",
       "hour_of_day_5                               -22.2040      0.606    -36.665      0.000     -23.391     -21.017\n",
       "hour_of_day_6                               -14.6543      0.606    -24.190      0.000     -15.842     -13.467\n",
       "hour_of_day_7                                -5.5404      0.606     -9.147      0.000      -6.728      -4.353\n",
       "hour_of_day_8                                 3.2991      0.606      5.447      0.000       2.112       4.486\n",
       "hour_of_day_9                                10.3001      0.606     17.005      0.000       9.113      11.487\n",
       "hour_of_day_10                               16.2043      0.606     26.746      0.000      15.017      17.392\n",
       "hour_of_day_11                               19.6645      0.606     32.473      0.000      18.478      20.851\n",
       "hour_of_day_12                               22.5626      0.606     37.235      0.000      21.375      23.750\n",
       "hour_of_day_13                               23.3570      0.606     38.558      0.000      22.170      24.544\n",
       "hour_of_day_14                               24.0226      0.606     39.667      0.000      22.836      25.210\n",
       "hour_of_day_15                               23.3528      0.606     38.539      0.000      22.165      24.540\n",
       "hour_of_day_16                               19.7925      0.606     32.654      0.000      18.604      20.980\n",
       "hour_of_day_17                               13.3536      0.606     22.042      0.000      12.166      14.541\n",
       "hour_of_day_18                                5.7862      0.606      9.555      0.000       4.599       6.973\n",
       "hour_of_day_19                                0.9422      0.606      1.556      0.120      -0.245       2.129\n",
       "hour_of_day_20                               -4.2756      0.605     -7.062      0.000      -5.462      -3.089\n",
       "hour_of_day_21                               -9.0023      0.606    -14.859      0.000     -10.190      -7.815\n",
       "hour_of_day_22                              -13.6523      0.606    -22.532      0.000     -14.840     -12.465\n",
       "==============================================================================\n",
       "Omnibus:                 15018000.811   Durbin-Watson:                   2.000\n",
       "Prob(Omnibus):                  0.000   Jarque-Bera (JB):     597676241107.083\n",
       "Skew:                          11.506   Prob(JB):                         0.00\n",
       "Kurtosis:                    1306.187   Cond. No.                     4.38e+06\n",
       "==============================================================================\n",
       "\n",
       "Warnings:\n",
       "[1] Standard Errors assume that the covariance matrix of the errors is correctly specified.\n",
       "[2] The condition number is large, 4.38e+06. This might indicate that there are\n",
       "strong multicollinearity or other numerical problems.\n",
       "\"\"\""
      ]
     },
     "execution_count": 71,
     "metadata": {},
     "output_type": "execute_result"
    }
   ],
   "source": [
    "# Without Y-intercept\n",
    "model = sm.OLS(y_train, X_train_a).fit()\n",
    "predictions = model.predict(X_train_a) # make the predictions by the model\n",
    "\n",
    "# Print out the statistics\n",
    "model.summary()"
   ]
  },
  {
   "cell_type": "code",
   "execution_count": 73,
   "metadata": {},
   "outputs": [
    {
     "data": {
      "text/html": [
       "<table class=\"simpletable\">\n",
       "<caption>OLS Regression Results</caption>\n",
       "<tr>\n",
       "  <th>Dep. Variable:</th>      <td>meter_reading</td>  <th>  R-squared:         </th>  <td>   0.567</td>  \n",
       "</tr>\n",
       "<tr>\n",
       "  <th>Model:</th>                   <td>OLS</td>       <th>  Adj. R-squared:    </th>  <td>   0.567</td>  \n",
       "</tr>\n",
       "<tr>\n",
       "  <th>Method:</th>             <td>Least Squares</td>  <th>  F-statistic:       </th>  <td>1.815e+05</td> \n",
       "</tr>\n",
       "<tr>\n",
       "  <th>Date:</th>             <td>Sun, 08 Dec 2019</td> <th>  Prob (F-statistic):</th>   <td>  0.00</td>   \n",
       "</tr>\n",
       "<tr>\n",
       "  <th>Time:</th>                 <td>20:41:50</td>     <th>  Log-Likelihood:    </th> <td>-5.9054e+07</td>\n",
       "</tr>\n",
       "<tr>\n",
       "  <th>No. Observations:</th>      <td>8443617</td>     <th>  AIC:               </th>  <td>1.181e+08</td> \n",
       "</tr>\n",
       "<tr>\n",
       "  <th>Df Residuals:</th>          <td>8443555</td>     <th>  BIC:               </th>  <td>1.181e+08</td> \n",
       "</tr>\n",
       "<tr>\n",
       "  <th>Df Model:</th>              <td>    61</td>      <th>                     </th>      <td> </td>     \n",
       "</tr>\n",
       "<tr>\n",
       "  <th>Covariance Type:</th>      <td>nonrobust</td>    <th>                     </th>      <td> </td>     \n",
       "</tr>\n",
       "</table>\n",
       "<table class=\"simpletable\">\n",
       "<tr>\n",
       "                      <td></td>                         <th>coef</th>     <th>std err</th>      <th>t</th>      <th>P>|t|</th>  <th>[0.025</th>    <th>0.975]</th>  \n",
       "</tr>\n",
       "<tr>\n",
       "  <th>const</th>                                     <td> -132.3829</td> <td>    1.163</td> <td> -113.805</td> <td> 0.000</td> <td> -134.663</td> <td> -130.103</td>\n",
       "</tr>\n",
       "<tr>\n",
       "  <th>square_feet</th>                               <td>    0.0015</td> <td> 9.56e-07</td> <td> 1533.513</td> <td> 0.000</td> <td>    0.001</td> <td>    0.001</td>\n",
       "</tr>\n",
       "<tr>\n",
       "  <th>floor_count</th>                               <td>   33.0325</td> <td>    0.037</td> <td>  885.955</td> <td> 0.000</td> <td>   32.959</td> <td>   33.106</td>\n",
       "</tr>\n",
       "<tr>\n",
       "  <th>primary_use_Education</th>                     <td>   48.6923</td> <td>    1.006</td> <td>   48.415</td> <td> 0.000</td> <td>   46.721</td> <td>   50.663</td>\n",
       "</tr>\n",
       "<tr>\n",
       "  <th>primary_use_Entertainment/public assembly</th> <td>   21.8417</td> <td>    1.020</td> <td>   21.409</td> <td> 0.000</td> <td>   19.842</td> <td>   23.841</td>\n",
       "</tr>\n",
       "<tr>\n",
       "  <th>primary_use_Food sales and service</th>        <td>   70.9753</td> <td>    1.807</td> <td>   39.279</td> <td> 0.000</td> <td>   67.434</td> <td>   74.517</td>\n",
       "</tr>\n",
       "<tr>\n",
       "  <th>primary_use_Healthcare</th>                    <td>  103.6177</td> <td>    1.243</td> <td>   83.367</td> <td> 0.000</td> <td>  101.182</td> <td>  106.054</td>\n",
       "</tr>\n",
       "<tr>\n",
       "  <th>primary_use_Lodging/residential</th>           <td>  -31.8937</td> <td>    1.037</td> <td>  -30.747</td> <td> 0.000</td> <td>  -33.927</td> <td>  -29.861</td>\n",
       "</tr>\n",
       "<tr>\n",
       "  <th>primary_use_Manufacturing/industrial</th>      <td>   54.1188</td> <td>    1.474</td> <td>   36.709</td> <td> 0.000</td> <td>   51.229</td> <td>   57.008</td>\n",
       "</tr>\n",
       "<tr>\n",
       "  <th>primary_use_Office</th>                        <td>   21.9049</td> <td>    1.012</td> <td>   21.639</td> <td> 0.000</td> <td>   19.921</td> <td>   23.889</td>\n",
       "</tr>\n",
       "<tr>\n",
       "  <th>primary_use_Other</th>                         <td>   11.8719</td> <td>    1.208</td> <td>    9.824</td> <td> 0.000</td> <td>    9.503</td> <td>   14.240</td>\n",
       "</tr>\n",
       "<tr>\n",
       "  <th>primary_use_Parking</th>                       <td> -412.5952</td> <td>    1.256</td> <td> -328.415</td> <td> 0.000</td> <td> -415.058</td> <td> -410.133</td>\n",
       "</tr>\n",
       "<tr>\n",
       "  <th>primary_use_Public services</th>               <td>   15.2253</td> <td>    1.024</td> <td>   14.873</td> <td> 0.000</td> <td>   13.219</td> <td>   17.232</td>\n",
       "</tr>\n",
       "<tr>\n",
       "  <th>primary_use_Religious worship</th>             <td>  102.4084</td> <td>    2.230</td> <td>   45.917</td> <td> 0.000</td> <td>   98.037</td> <td>  106.780</td>\n",
       "</tr>\n",
       "<tr>\n",
       "  <th>primary_use_Retail</th>                        <td>   53.3481</td> <td>    1.439</td> <td>   37.062</td> <td> 0.000</td> <td>   50.527</td> <td>   56.169</td>\n",
       "</tr>\n",
       "<tr>\n",
       "  <th>primary_use_Services</th>                      <td> -232.6942</td> <td>    1.513</td> <td> -153.794</td> <td> 0.000</td> <td> -235.660</td> <td> -229.729</td>\n",
       "</tr>\n",
       "<tr>\n",
       "  <th>primary_use_Technology/science</th>            <td>   -0.9855</td> <td>    1.793</td> <td>   -0.550</td> <td> 0.583</td> <td>   -4.499</td> <td>    2.528</td>\n",
       "</tr>\n",
       "<tr>\n",
       "  <th>primary_use_Utility</th>                       <td>  153.7209</td> <td>    2.026</td> <td>   75.872</td> <td> 0.000</td> <td>  149.750</td> <td>  157.692</td>\n",
       "</tr>\n",
       "<tr>\n",
       "  <th>site_id_0</th>                                 <td>  105.4436</td> <td>    0.526</td> <td>  200.581</td> <td> 0.000</td> <td>  104.413</td> <td>  106.474</td>\n",
       "</tr>\n",
       "<tr>\n",
       "  <th>site_id_1</th>                                 <td>  -91.4652</td> <td>    0.611</td> <td> -149.676</td> <td> 0.000</td> <td>  -92.663</td> <td>  -90.267</td>\n",
       "</tr>\n",
       "<tr>\n",
       "  <th>site_id_2</th>                                 <td> -114.5957</td> <td>    0.470</td> <td> -243.937</td> <td> 0.000</td> <td> -115.516</td> <td> -113.675</td>\n",
       "</tr>\n",
       "<tr>\n",
       "  <th>site_id_3</th>                                 <td>  -75.2523</td> <td>    0.426</td> <td> -176.498</td> <td> 0.000</td> <td>  -76.088</td> <td>  -74.417</td>\n",
       "</tr>\n",
       "<tr>\n",
       "  <th>site_id_4</th>                                 <td>  -69.4382</td> <td>    0.519</td> <td> -133.796</td> <td> 0.000</td> <td>  -70.455</td> <td>  -68.421</td>\n",
       "</tr>\n",
       "<tr>\n",
       "  <th>site_id_5</th>                                 <td>  -55.8068</td> <td>    0.505</td> <td> -110.577</td> <td> 0.000</td> <td>  -56.796</td> <td>  -54.818</td>\n",
       "</tr>\n",
       "<tr>\n",
       "  <th>site_id_6</th>                                 <td>    9.3450</td> <td>    0.660</td> <td>   14.152</td> <td> 0.000</td> <td>    8.051</td> <td>   10.639</td>\n",
       "</tr>\n",
       "<tr>\n",
       "  <th>site_id_7</th>                                 <td> 1574.3870</td> <td>    1.081</td> <td> 1456.365</td> <td> 0.000</td> <td> 1572.268</td> <td> 1576.506</td>\n",
       "</tr>\n",
       "<tr>\n",
       "  <th>site_id_8</th>                                 <td>   66.1405</td> <td>    0.579</td> <td>  114.313</td> <td> 0.000</td> <td>   65.007</td> <td>   67.275</td>\n",
       "</tr>\n",
       "<tr>\n",
       "  <th>site_id_9</th>                                 <td>  -15.9819</td> <td>    0.469</td> <td>  -34.047</td> <td> 0.000</td> <td>  -16.902</td> <td>  -15.062</td>\n",
       "</tr>\n",
       "<tr>\n",
       "  <th>site_id_10</th>                                <td>  -21.9158</td> <td>    0.741</td> <td>  -29.573</td> <td> 0.000</td> <td>  -23.368</td> <td>  -20.463</td>\n",
       "</tr>\n",
       "<tr>\n",
       "  <th>site_id_11</th>                                <td>   41.5310</td> <td>    1.558</td> <td>   26.659</td> <td> 0.000</td> <td>   38.478</td> <td>   44.584</td>\n",
       "</tr>\n",
       "<tr>\n",
       "  <th>site_id_12</th>                                <td>  -45.9738</td> <td>    0.670</td> <td>  -68.572</td> <td> 0.000</td> <td>  -47.288</td> <td>  -44.660</td>\n",
       "</tr>\n",
       "<tr>\n",
       "  <th>site_id_13</th>                                <td>   62.2263</td> <td>    0.464</td> <td>  134.077</td> <td> 0.000</td> <td>   61.317</td> <td>   63.136</td>\n",
       "</tr>\n",
       "<tr>\n",
       "  <th>site_id_14</th>                                <td>   33.0205</td> <td>    0.493</td> <td>   66.939</td> <td> 0.000</td> <td>   32.054</td> <td>   33.987</td>\n",
       "</tr>\n",
       "<tr>\n",
       "  <th>day_of_week_0</th>                             <td>   24.4489</td> <td>    0.341</td> <td>   71.743</td> <td> 0.000</td> <td>   23.781</td> <td>   25.117</td>\n",
       "</tr>\n",
       "<tr>\n",
       "  <th>day_of_week_1</th>                             <td>   27.8098</td> <td>    0.341</td> <td>   81.646</td> <td> 0.000</td> <td>   27.142</td> <td>   28.477</td>\n",
       "</tr>\n",
       "<tr>\n",
       "  <th>day_of_week_2</th>                             <td>   28.0246</td> <td>    0.341</td> <td>   82.290</td> <td> 0.000</td> <td>   27.357</td> <td>   28.692</td>\n",
       "</tr>\n",
       "<tr>\n",
       "  <th>day_of_week_3</th>                             <td>   26.8800</td> <td>    0.341</td> <td>   78.919</td> <td> 0.000</td> <td>   26.212</td> <td>   27.548</td>\n",
       "</tr>\n",
       "<tr>\n",
       "  <th>day_of_week_4</th>                             <td>   22.5689</td> <td>    0.339</td> <td>   66.564</td> <td> 0.000</td> <td>   21.904</td> <td>   23.233</td>\n",
       "</tr>\n",
       "<tr>\n",
       "  <th>day_of_week_5</th>                             <td>    3.5188</td> <td>    0.339</td> <td>   10.381</td> <td> 0.000</td> <td>    2.854</td> <td>    4.183</td>\n",
       "</tr>\n",
       "<tr>\n",
       "  <th>hour_of_day_0</th>                             <td>   -3.3772</td> <td>    0.629</td> <td>   -5.373</td> <td> 0.000</td> <td>   -4.609</td> <td>   -2.145</td>\n",
       "</tr>\n",
       "<tr>\n",
       "  <th>hour_of_day_1</th>                             <td>   -3.7056</td> <td>    0.629</td> <td>   -5.892</td> <td> 0.000</td> <td>   -4.938</td> <td>   -2.473</td>\n",
       "</tr>\n",
       "<tr>\n",
       "  <th>hour_of_day_2</th>                             <td>   -7.5483</td> <td>    0.628</td> <td>  -12.013</td> <td> 0.000</td> <td>   -8.780</td> <td>   -6.317</td>\n",
       "</tr>\n",
       "<tr>\n",
       "  <th>hour_of_day_3</th>                             <td>   -8.0812</td> <td>    0.628</td> <td>  -12.860</td> <td> 0.000</td> <td>   -9.313</td> <td>   -6.850</td>\n",
       "</tr>\n",
       "<tr>\n",
       "  <th>hour_of_day_4</th>                             <td>   -7.1716</td> <td>    0.629</td> <td>  -11.409</td> <td> 0.000</td> <td>   -8.404</td> <td>   -5.940</td>\n",
       "</tr>\n",
       "<tr>\n",
       "  <th>hour_of_day_5</th>                             <td>   -2.9048</td> <td>    0.628</td> <td>   -4.622</td> <td> 0.000</td> <td>   -4.136</td> <td>   -1.673</td>\n",
       "</tr>\n",
       "<tr>\n",
       "  <th>hour_of_day_6</th>                             <td>    4.6425</td> <td>    0.629</td> <td>    7.385</td> <td> 0.000</td> <td>    3.410</td> <td>    5.875</td>\n",
       "</tr>\n",
       "<tr>\n",
       "  <th>hour_of_day_7</th>                             <td>   13.7401</td> <td>    0.629</td> <td>   21.861</td> <td> 0.000</td> <td>   12.508</td> <td>   14.972</td>\n",
       "</tr>\n",
       "<tr>\n",
       "  <th>hour_of_day_8</th>                             <td>   22.6141</td> <td>    0.629</td> <td>   35.975</td> <td> 0.000</td> <td>   21.382</td> <td>   23.846</td>\n",
       "</tr>\n",
       "<tr>\n",
       "  <th>hour_of_day_9</th>                             <td>   29.6053</td> <td>    0.629</td> <td>   47.099</td> <td> 0.000</td> <td>   28.373</td> <td>   30.837</td>\n",
       "</tr>\n",
       "<tr>\n",
       "  <th>hour_of_day_10</th>                            <td>   35.5034</td> <td>    0.629</td> <td>   56.472</td> <td> 0.000</td> <td>   34.271</td> <td>   36.736</td>\n",
       "</tr>\n",
       "<tr>\n",
       "  <th>hour_of_day_11</th>                            <td>   38.9746</td> <td>    0.628</td> <td>   62.018</td> <td> 0.000</td> <td>   37.743</td> <td>   40.206</td>\n",
       "</tr>\n",
       "<tr>\n",
       "  <th>hour_of_day_12</th>                            <td>   41.8675</td> <td>    0.629</td> <td>   66.583</td> <td> 0.000</td> <td>   40.635</td> <td>   43.100</td>\n",
       "</tr>\n",
       "<tr>\n",
       "  <th>hour_of_day_13</th>                            <td>   42.6601</td> <td>    0.629</td> <td>   67.863</td> <td> 0.000</td> <td>   41.428</td> <td>   43.892</td>\n",
       "</tr>\n",
       "<tr>\n",
       "  <th>hour_of_day_14</th>                            <td>   43.3351</td> <td>    0.628</td> <td>   68.951</td> <td> 0.000</td> <td>   42.103</td> <td>   44.567</td>\n",
       "</tr>\n",
       "<tr>\n",
       "  <th>hour_of_day_15</th>                            <td>   42.6574</td> <td>    0.629</td> <td>   67.839</td> <td> 0.000</td> <td>   41.425</td> <td>   43.890</td>\n",
       "</tr>\n",
       "<tr>\n",
       "  <th>hour_of_day_16</th>                            <td>   39.0942</td> <td>    0.629</td> <td>   62.157</td> <td> 0.000</td> <td>   37.862</td> <td>   40.327</td>\n",
       "</tr>\n",
       "<tr>\n",
       "  <th>hour_of_day_17</th>                            <td>   32.6553</td> <td>    0.629</td> <td>   51.943</td> <td> 0.000</td> <td>   31.423</td> <td>   33.887</td>\n",
       "</tr>\n",
       "<tr>\n",
       "  <th>hour_of_day_18</th>                            <td>   25.0816</td> <td>    0.628</td> <td>   39.911</td> <td> 0.000</td> <td>   23.850</td> <td>   26.313</td>\n",
       "</tr>\n",
       "<tr>\n",
       "  <th>hour_of_day_19</th>                            <td>   20.2433</td> <td>    0.628</td> <td>   32.214</td> <td> 0.000</td> <td>   19.012</td> <td>   21.475</td>\n",
       "</tr>\n",
       "<tr>\n",
       "  <th>hour_of_day_20</th>                            <td>   15.0163</td> <td>    0.628</td> <td>   23.900</td> <td> 0.000</td> <td>   13.785</td> <td>   16.248</td>\n",
       "</tr>\n",
       "<tr>\n",
       "  <th>hour_of_day_21</th>                            <td>   10.2887</td> <td>    0.629</td> <td>   16.366</td> <td> 0.000</td> <td>    9.057</td> <td>   11.521</td>\n",
       "</tr>\n",
       "<tr>\n",
       "  <th>hour_of_day_22</th>                            <td>    5.6509</td> <td>    0.629</td> <td>    8.987</td> <td> 0.000</td> <td>    4.419</td> <td>    6.883</td>\n",
       "</tr>\n",
       "</table>\n",
       "<table class=\"simpletable\">\n",
       "<tr>\n",
       "  <th>Omnibus:</th>       <td>15019584.791</td> <th>  Durbin-Watson:     </th>     <td>   2.000</td>    \n",
       "</tr>\n",
       "<tr>\n",
       "  <th>Prob(Omnibus):</th>    <td> 0.000</td>    <th>  Jarque-Bera (JB):  </th> <td>600495712881.614</td>\n",
       "</tr>\n",
       "<tr>\n",
       "  <th>Skew:</th>             <td>11.507</td>    <th>  Prob(JB):          </th>     <td>    0.00</td>    \n",
       "</tr>\n",
       "<tr>\n",
       "  <th>Kurtosis:</th>        <td>1309.258</td>   <th>  Cond. No.          </th>     <td>6.58e+06</td>    \n",
       "</tr>\n",
       "</table><br/><br/>Warnings:<br/>[1] Standard Errors assume that the covariance matrix of the errors is correctly specified.<br/>[2] The condition number is large, 6.58e+06. This might indicate that there are<br/>strong multicollinearity or other numerical problems."
      ],
      "text/plain": [
       "<class 'statsmodels.iolib.summary.Summary'>\n",
       "\"\"\"\n",
       "                            OLS Regression Results                            \n",
       "==============================================================================\n",
       "Dep. Variable:          meter_reading   R-squared:                       0.567\n",
       "Model:                            OLS   Adj. R-squared:                  0.567\n",
       "Method:                 Least Squares   F-statistic:                 1.815e+05\n",
       "Date:                Sun, 08 Dec 2019   Prob (F-statistic):               0.00\n",
       "Time:                        20:41:50   Log-Likelihood:            -5.9054e+07\n",
       "No. Observations:             8443617   AIC:                         1.181e+08\n",
       "Df Residuals:                 8443555   BIC:                         1.181e+08\n",
       "Df Model:                          61                                         \n",
       "Covariance Type:            nonrobust                                         \n",
       "=============================================================================================================\n",
       "                                                coef    std err          t      P>|t|      [0.025      0.975]\n",
       "-------------------------------------------------------------------------------------------------------------\n",
       "const                                      -132.3829      1.163   -113.805      0.000    -134.663    -130.103\n",
       "square_feet                                   0.0015   9.56e-07   1533.513      0.000       0.001       0.001\n",
       "floor_count                                  33.0325      0.037    885.955      0.000      32.959      33.106\n",
       "primary_use_Education                        48.6923      1.006     48.415      0.000      46.721      50.663\n",
       "primary_use_Entertainment/public assembly    21.8417      1.020     21.409      0.000      19.842      23.841\n",
       "primary_use_Food sales and service           70.9753      1.807     39.279      0.000      67.434      74.517\n",
       "primary_use_Healthcare                      103.6177      1.243     83.367      0.000     101.182     106.054\n",
       "primary_use_Lodging/residential             -31.8937      1.037    -30.747      0.000     -33.927     -29.861\n",
       "primary_use_Manufacturing/industrial         54.1188      1.474     36.709      0.000      51.229      57.008\n",
       "primary_use_Office                           21.9049      1.012     21.639      0.000      19.921      23.889\n",
       "primary_use_Other                            11.8719      1.208      9.824      0.000       9.503      14.240\n",
       "primary_use_Parking                        -412.5952      1.256   -328.415      0.000    -415.058    -410.133\n",
       "primary_use_Public services                  15.2253      1.024     14.873      0.000      13.219      17.232\n",
       "primary_use_Religious worship               102.4084      2.230     45.917      0.000      98.037     106.780\n",
       "primary_use_Retail                           53.3481      1.439     37.062      0.000      50.527      56.169\n",
       "primary_use_Services                       -232.6942      1.513   -153.794      0.000    -235.660    -229.729\n",
       "primary_use_Technology/science               -0.9855      1.793     -0.550      0.583      -4.499       2.528\n",
       "primary_use_Utility                         153.7209      2.026     75.872      0.000     149.750     157.692\n",
       "site_id_0                                   105.4436      0.526    200.581      0.000     104.413     106.474\n",
       "site_id_1                                   -91.4652      0.611   -149.676      0.000     -92.663     -90.267\n",
       "site_id_2                                  -114.5957      0.470   -243.937      0.000    -115.516    -113.675\n",
       "site_id_3                                   -75.2523      0.426   -176.498      0.000     -76.088     -74.417\n",
       "site_id_4                                   -69.4382      0.519   -133.796      0.000     -70.455     -68.421\n",
       "site_id_5                                   -55.8068      0.505   -110.577      0.000     -56.796     -54.818\n",
       "site_id_6                                     9.3450      0.660     14.152      0.000       8.051      10.639\n",
       "site_id_7                                  1574.3870      1.081   1456.365      0.000    1572.268    1576.506\n",
       "site_id_8                                    66.1405      0.579    114.313      0.000      65.007      67.275\n",
       "site_id_9                                   -15.9819      0.469    -34.047      0.000     -16.902     -15.062\n",
       "site_id_10                                  -21.9158      0.741    -29.573      0.000     -23.368     -20.463\n",
       "site_id_11                                   41.5310      1.558     26.659      0.000      38.478      44.584\n",
       "site_id_12                                  -45.9738      0.670    -68.572      0.000     -47.288     -44.660\n",
       "site_id_13                                   62.2263      0.464    134.077      0.000      61.317      63.136\n",
       "site_id_14                                   33.0205      0.493     66.939      0.000      32.054      33.987\n",
       "day_of_week_0                                24.4489      0.341     71.743      0.000      23.781      25.117\n",
       "day_of_week_1                                27.8098      0.341     81.646      0.000      27.142      28.477\n",
       "day_of_week_2                                28.0246      0.341     82.290      0.000      27.357      28.692\n",
       "day_of_week_3                                26.8800      0.341     78.919      0.000      26.212      27.548\n",
       "day_of_week_4                                22.5689      0.339     66.564      0.000      21.904      23.233\n",
       "day_of_week_5                                 3.5188      0.339     10.381      0.000       2.854       4.183\n",
       "hour_of_day_0                                -3.3772      0.629     -5.373      0.000      -4.609      -2.145\n",
       "hour_of_day_1                                -3.7056      0.629     -5.892      0.000      -4.938      -2.473\n",
       "hour_of_day_2                                -7.5483      0.628    -12.013      0.000      -8.780      -6.317\n",
       "hour_of_day_3                                -8.0812      0.628    -12.860      0.000      -9.313      -6.850\n",
       "hour_of_day_4                                -7.1716      0.629    -11.409      0.000      -8.404      -5.940\n",
       "hour_of_day_5                                -2.9048      0.628     -4.622      0.000      -4.136      -1.673\n",
       "hour_of_day_6                                 4.6425      0.629      7.385      0.000       3.410       5.875\n",
       "hour_of_day_7                                13.7401      0.629     21.861      0.000      12.508      14.972\n",
       "hour_of_day_8                                22.6141      0.629     35.975      0.000      21.382      23.846\n",
       "hour_of_day_9                                29.6053      0.629     47.099      0.000      28.373      30.837\n",
       "hour_of_day_10                               35.5034      0.629     56.472      0.000      34.271      36.736\n",
       "hour_of_day_11                               38.9746      0.628     62.018      0.000      37.743      40.206\n",
       "hour_of_day_12                               41.8675      0.629     66.583      0.000      40.635      43.100\n",
       "hour_of_day_13                               42.6601      0.629     67.863      0.000      41.428      43.892\n",
       "hour_of_day_14                               43.3351      0.628     68.951      0.000      42.103      44.567\n",
       "hour_of_day_15                               42.6574      0.629     67.839      0.000      41.425      43.890\n",
       "hour_of_day_16                               39.0942      0.629     62.157      0.000      37.862      40.327\n",
       "hour_of_day_17                               32.6553      0.629     51.943      0.000      31.423      33.887\n",
       "hour_of_day_18                               25.0816      0.628     39.911      0.000      23.850      26.313\n",
       "hour_of_day_19                               20.2433      0.628     32.214      0.000      19.012      21.475\n",
       "hour_of_day_20                               15.0163      0.628     23.900      0.000      13.785      16.248\n",
       "hour_of_day_21                               10.2887      0.629     16.366      0.000       9.057      11.521\n",
       "hour_of_day_22                                5.6509      0.629      8.987      0.000       4.419       6.883\n",
       "==============================================================================\n",
       "Omnibus:                 15019584.791   Durbin-Watson:                   2.000\n",
       "Prob(Omnibus):                  0.000   Jarque-Bera (JB):     600495712881.614\n",
       "Skew:                          11.507   Prob(JB):                         0.00\n",
       "Kurtosis:                    1309.258   Cond. No.                     6.58e+06\n",
       "==============================================================================\n",
       "\n",
       "Warnings:\n",
       "[1] Standard Errors assume that the covariance matrix of the errors is correctly specified.\n",
       "[2] The condition number is large, 6.58e+06. This might indicate that there are\n",
       "strong multicollinearity or other numerical problems.\n",
       "\"\"\""
      ]
     },
     "execution_count": 73,
     "metadata": {},
     "output_type": "execute_result"
    }
   ],
   "source": [
    "# With Y-Intercept\n",
    "X = sm.add_constant(X_train_a)\n",
    "model = sm.OLS(y_train, X).fit()\n",
    "predictions = model.predict(X) # make the predictions by the model\n",
    "\n",
    "# Print out the statistics\n",
    "model.summary()"
   ]
  },
  {
   "cell_type": "markdown",
   "metadata": {},
   "source": [
    "### Linear regression using sklearn using same features"
   ]
  },
  {
   "cell_type": "code",
   "execution_count": 74,
   "metadata": {},
   "outputs": [
    {
     "data": {
      "text/plain": [
       "LinearRegression(copy_X=True, fit_intercept=True, n_jobs=None, normalize=False)"
      ]
     },
     "execution_count": 74,
     "metadata": {},
     "output_type": "execute_result"
    }
   ],
   "source": [
    "# Training model using linear regression\n",
    "regressor = LinearRegression()  \n",
    "regressor.fit(X_train_a, y_train)"
   ]
  },
  {
   "cell_type": "code",
   "execution_count": 75,
   "metadata": {},
   "outputs": [],
   "source": [
    "# predicting y \n",
    "y_pred = regressor.predict(X_test_a)"
   ]
  },
  {
   "cell_type": "code",
   "execution_count": 76,
   "metadata": {},
   "outputs": [
    {
     "name": "stdout",
     "output_type": "stream",
     "text": [
      "Mean Absolute Error: 121.15408698990548\n",
      "Mean Squared Error: 69097.29709077573\n",
      "Root Mean Squared Error: 262.8636473359824\n"
     ]
    }
   ],
   "source": [
    "print('Mean Absolute Error:', metrics.mean_absolute_error(y_test, y_pred))  \n",
    "print('Mean Squared Error:', metrics.mean_squared_error(y_test, y_pred))  \n",
    "print('Root Mean Squared Error:', np.sqrt(metrics.mean_squared_error(y_test, y_pred)))"
   ]
  },
  {
   "cell_type": "code",
   "execution_count": 77,
   "metadata": {},
   "outputs": [
    {
     "data": {
      "text/plain": [
       "0.5699419753049282"
      ]
     },
     "execution_count": 77,
     "metadata": {},
     "output_type": "execute_result"
    }
   ],
   "source": [
    "r2_score(y_test, y_pred)"
   ]
  },
  {
   "cell_type": "code",
   "execution_count": 78,
   "metadata": {},
   "outputs": [
    {
     "name": "stdout",
     "output_type": "stream",
     "text": [
      "Coefficients: \n",
      " [[ 1.46677256e-03  3.30325403e+01  4.86922998e+01  2.18417023e+01\n",
      "   7.09753100e+01  1.03617747e+02 -3.18937483e+01  5.41187918e+01\n",
      "   2.19049068e+01  1.18719020e+01 -4.12595213e+02  1.52252732e+01\n",
      "   1.02408424e+02  5.33480925e+01 -2.32694189e+02 -9.85490277e-01\n",
      "   1.53720941e+02  1.05443589e+02 -9.14651926e+01 -1.14595719e+02\n",
      "  -7.52523454e+01 -6.94382418e+01 -5.58067545e+01  9.34498162e+00\n",
      "   1.57438695e+03  6.61405224e+01 -1.59819369e+01 -2.19158263e+01\n",
      "   4.15310140e+01 -4.59737577e+01  6.22263163e+01  3.30204562e+01\n",
      "   2.44489125e+01  2.78097602e+01  2.80246454e+01  2.68799879e+01\n",
      "   2.25688584e+01  3.51883754e+00 -3.37724554e+00 -3.70561011e+00\n",
      "  -7.54832331e+00 -8.08115902e+00 -7.17160631e+00 -2.90475200e+00\n",
      "   4.64249233e+00  1.37400855e+01  2.26141277e+01  2.96053295e+01\n",
      "   3.55034048e+01  3.89746275e+01  4.18675001e+01  4.26601152e+01\n",
      "   4.33350835e+01  4.26573691e+01  3.90942490e+01  3.26552803e+01\n",
      "   2.50815756e+01  2.02432694e+01  1.50163052e+01  1.02886859e+01\n",
      "   5.65092761e+00]]\n"
     ]
    }
   ],
   "source": [
    "print('Coefficients: \\n', regressor.coef_)"
   ]
  },
  {
   "cell_type": "code",
   "execution_count": 81,
   "metadata": {},
   "outputs": [
    {
     "data": {
      "text/plain": [
       "1.581147538987414"
      ]
     },
     "execution_count": 81,
     "metadata": {},
     "output_type": "execute_result"
    }
   ],
   "source": [
    "# Printing RMSLE \n",
    "y_true = y_test['meter_reading'].values.tolist()\n",
    "y_true = [0 if i <0 else i for i in y_true]\n",
    "y_p = y_pred.ravel().tolist()\n",
    "y_p = [0 if i <0 else i for i in y_p]\n",
    "np.sqrt(metrics.mean_squared_log_error(y_true, y_p))"
   ]
  },
  {
   "cell_type": "markdown",
   "metadata": {},
   "source": [
    "## Attempt 3:   Random Forest? This is WIP. "
   ]
  },
  {
   "cell_type": "code",
   "execution_count": 82,
   "metadata": {},
   "outputs": [],
   "source": [
    "rf = RandomForestRegressor(n_estimators = 1000, random_state = 1)"
   ]
  },
  {
   "cell_type": "code",
   "execution_count": 86,
   "metadata": {},
   "outputs": [
    {
     "ename": "KeyboardInterrupt",
     "evalue": "",
     "output_type": "error",
     "traceback": [
      "\u001b[1;31m---------------------------------------------------------------------------\u001b[0m",
      "\u001b[1;31mKeyboardInterrupt\u001b[0m                         Traceback (most recent call last)",
      "\u001b[1;32m<ipython-input-86-b52b3b24a87b>\u001b[0m in \u001b[0;36m<module>\u001b[1;34m\u001b[0m\n\u001b[0;32m      1\u001b[0m \u001b[1;31m# Train the model on training data\u001b[0m\u001b[1;33m\u001b[0m\u001b[1;33m\u001b[0m\u001b[1;33m\u001b[0m\u001b[0m\n\u001b[1;32m----> 2\u001b[1;33m \u001b[0mrf\u001b[0m\u001b[1;33m.\u001b[0m\u001b[0mfit\u001b[0m\u001b[1;33m(\u001b[0m\u001b[0mX_train_a\u001b[0m\u001b[1;33m,\u001b[0m \u001b[0my_train\u001b[0m\u001b[1;33m.\u001b[0m\u001b[0mmeter_reading\u001b[0m\u001b[1;33m.\u001b[0m\u001b[0mravel\u001b[0m\u001b[1;33m(\u001b[0m\u001b[1;33m)\u001b[0m\u001b[1;33m)\u001b[0m\u001b[1;33m\u001b[0m\u001b[1;33m\u001b[0m\u001b[0m\n\u001b[0m",
      "\u001b[1;32m~\\Anaconda3\\envs\\W200\\lib\\site-packages\\sklearn\\ensemble\\forest.py\u001b[0m in \u001b[0;36mfit\u001b[1;34m(self, X, y, sample_weight)\u001b[0m\n\u001b[0;32m    328\u001b[0m                     \u001b[0mt\u001b[0m\u001b[1;33m,\u001b[0m \u001b[0mself\u001b[0m\u001b[1;33m,\u001b[0m \u001b[0mX\u001b[0m\u001b[1;33m,\u001b[0m \u001b[0my\u001b[0m\u001b[1;33m,\u001b[0m \u001b[0msample_weight\u001b[0m\u001b[1;33m,\u001b[0m \u001b[0mi\u001b[0m\u001b[1;33m,\u001b[0m \u001b[0mlen\u001b[0m\u001b[1;33m(\u001b[0m\u001b[0mtrees\u001b[0m\u001b[1;33m)\u001b[0m\u001b[1;33m,\u001b[0m\u001b[1;33m\u001b[0m\u001b[1;33m\u001b[0m\u001b[0m\n\u001b[0;32m    329\u001b[0m                     verbose=self.verbose, class_weight=self.class_weight)\n\u001b[1;32m--> 330\u001b[1;33m                 for i, t in enumerate(trees))\n\u001b[0m\u001b[0;32m    331\u001b[0m \u001b[1;33m\u001b[0m\u001b[0m\n\u001b[0;32m    332\u001b[0m             \u001b[1;31m# Collect newly grown trees\u001b[0m\u001b[1;33m\u001b[0m\u001b[1;33m\u001b[0m\u001b[1;33m\u001b[0m\u001b[0m\n",
      "\u001b[1;32m~\\Anaconda3\\envs\\W200\\lib\\site-packages\\joblib\\parallel.py\u001b[0m in \u001b[0;36m__call__\u001b[1;34m(self, iterable)\u001b[0m\n\u001b[0;32m    922\u001b[0m                 \u001b[0mself\u001b[0m\u001b[1;33m.\u001b[0m\u001b[0m_iterating\u001b[0m \u001b[1;33m=\u001b[0m \u001b[0mself\u001b[0m\u001b[1;33m.\u001b[0m\u001b[0m_original_iterator\u001b[0m \u001b[1;32mis\u001b[0m \u001b[1;32mnot\u001b[0m \u001b[1;32mNone\u001b[0m\u001b[1;33m\u001b[0m\u001b[1;33m\u001b[0m\u001b[0m\n\u001b[0;32m    923\u001b[0m \u001b[1;33m\u001b[0m\u001b[0m\n\u001b[1;32m--> 924\u001b[1;33m             \u001b[1;32mwhile\u001b[0m \u001b[0mself\u001b[0m\u001b[1;33m.\u001b[0m\u001b[0mdispatch_one_batch\u001b[0m\u001b[1;33m(\u001b[0m\u001b[0miterator\u001b[0m\u001b[1;33m)\u001b[0m\u001b[1;33m:\u001b[0m\u001b[1;33m\u001b[0m\u001b[1;33m\u001b[0m\u001b[0m\n\u001b[0m\u001b[0;32m    925\u001b[0m                 \u001b[1;32mpass\u001b[0m\u001b[1;33m\u001b[0m\u001b[1;33m\u001b[0m\u001b[0m\n\u001b[0;32m    926\u001b[0m \u001b[1;33m\u001b[0m\u001b[0m\n",
      "\u001b[1;32m~\\Anaconda3\\envs\\W200\\lib\\site-packages\\joblib\\parallel.py\u001b[0m in \u001b[0;36mdispatch_one_batch\u001b[1;34m(self, iterator)\u001b[0m\n\u001b[0;32m    757\u001b[0m                 \u001b[1;32mreturn\u001b[0m \u001b[1;32mFalse\u001b[0m\u001b[1;33m\u001b[0m\u001b[1;33m\u001b[0m\u001b[0m\n\u001b[0;32m    758\u001b[0m             \u001b[1;32melse\u001b[0m\u001b[1;33m:\u001b[0m\u001b[1;33m\u001b[0m\u001b[1;33m\u001b[0m\u001b[0m\n\u001b[1;32m--> 759\u001b[1;33m                 \u001b[0mself\u001b[0m\u001b[1;33m.\u001b[0m\u001b[0m_dispatch\u001b[0m\u001b[1;33m(\u001b[0m\u001b[0mtasks\u001b[0m\u001b[1;33m)\u001b[0m\u001b[1;33m\u001b[0m\u001b[1;33m\u001b[0m\u001b[0m\n\u001b[0m\u001b[0;32m    760\u001b[0m                 \u001b[1;32mreturn\u001b[0m \u001b[1;32mTrue\u001b[0m\u001b[1;33m\u001b[0m\u001b[1;33m\u001b[0m\u001b[0m\n\u001b[0;32m    761\u001b[0m \u001b[1;33m\u001b[0m\u001b[0m\n",
      "\u001b[1;32m~\\Anaconda3\\envs\\W200\\lib\\site-packages\\joblib\\parallel.py\u001b[0m in \u001b[0;36m_dispatch\u001b[1;34m(self, batch)\u001b[0m\n\u001b[0;32m    714\u001b[0m         \u001b[1;32mwith\u001b[0m \u001b[0mself\u001b[0m\u001b[1;33m.\u001b[0m\u001b[0m_lock\u001b[0m\u001b[1;33m:\u001b[0m\u001b[1;33m\u001b[0m\u001b[1;33m\u001b[0m\u001b[0m\n\u001b[0;32m    715\u001b[0m             \u001b[0mjob_idx\u001b[0m \u001b[1;33m=\u001b[0m \u001b[0mlen\u001b[0m\u001b[1;33m(\u001b[0m\u001b[0mself\u001b[0m\u001b[1;33m.\u001b[0m\u001b[0m_jobs\u001b[0m\u001b[1;33m)\u001b[0m\u001b[1;33m\u001b[0m\u001b[1;33m\u001b[0m\u001b[0m\n\u001b[1;32m--> 716\u001b[1;33m             \u001b[0mjob\u001b[0m \u001b[1;33m=\u001b[0m \u001b[0mself\u001b[0m\u001b[1;33m.\u001b[0m\u001b[0m_backend\u001b[0m\u001b[1;33m.\u001b[0m\u001b[0mapply_async\u001b[0m\u001b[1;33m(\u001b[0m\u001b[0mbatch\u001b[0m\u001b[1;33m,\u001b[0m \u001b[0mcallback\u001b[0m\u001b[1;33m=\u001b[0m\u001b[0mcb\u001b[0m\u001b[1;33m)\u001b[0m\u001b[1;33m\u001b[0m\u001b[1;33m\u001b[0m\u001b[0m\n\u001b[0m\u001b[0;32m    717\u001b[0m             \u001b[1;31m# A job can complete so quickly than its callback is\u001b[0m\u001b[1;33m\u001b[0m\u001b[1;33m\u001b[0m\u001b[1;33m\u001b[0m\u001b[0m\n\u001b[0;32m    718\u001b[0m             \u001b[1;31m# called before we get here, causing self._jobs to\u001b[0m\u001b[1;33m\u001b[0m\u001b[1;33m\u001b[0m\u001b[1;33m\u001b[0m\u001b[0m\n",
      "\u001b[1;32m~\\Anaconda3\\envs\\W200\\lib\\site-packages\\joblib\\_parallel_backends.py\u001b[0m in \u001b[0;36mapply_async\u001b[1;34m(self, func, callback)\u001b[0m\n\u001b[0;32m    180\u001b[0m     \u001b[1;32mdef\u001b[0m \u001b[0mapply_async\u001b[0m\u001b[1;33m(\u001b[0m\u001b[0mself\u001b[0m\u001b[1;33m,\u001b[0m \u001b[0mfunc\u001b[0m\u001b[1;33m,\u001b[0m \u001b[0mcallback\u001b[0m\u001b[1;33m=\u001b[0m\u001b[1;32mNone\u001b[0m\u001b[1;33m)\u001b[0m\u001b[1;33m:\u001b[0m\u001b[1;33m\u001b[0m\u001b[1;33m\u001b[0m\u001b[0m\n\u001b[0;32m    181\u001b[0m         \u001b[1;34m\"\"\"Schedule a func to be run\"\"\"\u001b[0m\u001b[1;33m\u001b[0m\u001b[1;33m\u001b[0m\u001b[0m\n\u001b[1;32m--> 182\u001b[1;33m         \u001b[0mresult\u001b[0m \u001b[1;33m=\u001b[0m \u001b[0mImmediateResult\u001b[0m\u001b[1;33m(\u001b[0m\u001b[0mfunc\u001b[0m\u001b[1;33m)\u001b[0m\u001b[1;33m\u001b[0m\u001b[1;33m\u001b[0m\u001b[0m\n\u001b[0m\u001b[0;32m    183\u001b[0m         \u001b[1;32mif\u001b[0m \u001b[0mcallback\u001b[0m\u001b[1;33m:\u001b[0m\u001b[1;33m\u001b[0m\u001b[1;33m\u001b[0m\u001b[0m\n\u001b[0;32m    184\u001b[0m             \u001b[0mcallback\u001b[0m\u001b[1;33m(\u001b[0m\u001b[0mresult\u001b[0m\u001b[1;33m)\u001b[0m\u001b[1;33m\u001b[0m\u001b[1;33m\u001b[0m\u001b[0m\n",
      "\u001b[1;32m~\\Anaconda3\\envs\\W200\\lib\\site-packages\\joblib\\_parallel_backends.py\u001b[0m in \u001b[0;36m__init__\u001b[1;34m(self, batch)\u001b[0m\n\u001b[0;32m    547\u001b[0m         \u001b[1;31m# Don't delay the application, to avoid keeping the input\u001b[0m\u001b[1;33m\u001b[0m\u001b[1;33m\u001b[0m\u001b[1;33m\u001b[0m\u001b[0m\n\u001b[0;32m    548\u001b[0m         \u001b[1;31m# arguments in memory\u001b[0m\u001b[1;33m\u001b[0m\u001b[1;33m\u001b[0m\u001b[1;33m\u001b[0m\u001b[0m\n\u001b[1;32m--> 549\u001b[1;33m         \u001b[0mself\u001b[0m\u001b[1;33m.\u001b[0m\u001b[0mresults\u001b[0m \u001b[1;33m=\u001b[0m \u001b[0mbatch\u001b[0m\u001b[1;33m(\u001b[0m\u001b[1;33m)\u001b[0m\u001b[1;33m\u001b[0m\u001b[1;33m\u001b[0m\u001b[0m\n\u001b[0m\u001b[0;32m    550\u001b[0m \u001b[1;33m\u001b[0m\u001b[0m\n\u001b[0;32m    551\u001b[0m     \u001b[1;32mdef\u001b[0m \u001b[0mget\u001b[0m\u001b[1;33m(\u001b[0m\u001b[0mself\u001b[0m\u001b[1;33m)\u001b[0m\u001b[1;33m:\u001b[0m\u001b[1;33m\u001b[0m\u001b[1;33m\u001b[0m\u001b[0m\n",
      "\u001b[1;32m~\\Anaconda3\\envs\\W200\\lib\\site-packages\\joblib\\parallel.py\u001b[0m in \u001b[0;36m__call__\u001b[1;34m(self)\u001b[0m\n\u001b[0;32m    223\u001b[0m         \u001b[1;32mwith\u001b[0m \u001b[0mparallel_backend\u001b[0m\u001b[1;33m(\u001b[0m\u001b[0mself\u001b[0m\u001b[1;33m.\u001b[0m\u001b[0m_backend\u001b[0m\u001b[1;33m,\u001b[0m \u001b[0mn_jobs\u001b[0m\u001b[1;33m=\u001b[0m\u001b[0mself\u001b[0m\u001b[1;33m.\u001b[0m\u001b[0m_n_jobs\u001b[0m\u001b[1;33m)\u001b[0m\u001b[1;33m:\u001b[0m\u001b[1;33m\u001b[0m\u001b[1;33m\u001b[0m\u001b[0m\n\u001b[0;32m    224\u001b[0m             return [func(*args, **kwargs)\n\u001b[1;32m--> 225\u001b[1;33m                     for func, args, kwargs in self.items]\n\u001b[0m\u001b[0;32m    226\u001b[0m \u001b[1;33m\u001b[0m\u001b[0m\n\u001b[0;32m    227\u001b[0m     \u001b[1;32mdef\u001b[0m \u001b[0m__len__\u001b[0m\u001b[1;33m(\u001b[0m\u001b[0mself\u001b[0m\u001b[1;33m)\u001b[0m\u001b[1;33m:\u001b[0m\u001b[1;33m\u001b[0m\u001b[1;33m\u001b[0m\u001b[0m\n",
      "\u001b[1;32m~\\Anaconda3\\envs\\W200\\lib\\site-packages\\joblib\\parallel.py\u001b[0m in \u001b[0;36m<listcomp>\u001b[1;34m(.0)\u001b[0m\n\u001b[0;32m    223\u001b[0m         \u001b[1;32mwith\u001b[0m \u001b[0mparallel_backend\u001b[0m\u001b[1;33m(\u001b[0m\u001b[0mself\u001b[0m\u001b[1;33m.\u001b[0m\u001b[0m_backend\u001b[0m\u001b[1;33m,\u001b[0m \u001b[0mn_jobs\u001b[0m\u001b[1;33m=\u001b[0m\u001b[0mself\u001b[0m\u001b[1;33m.\u001b[0m\u001b[0m_n_jobs\u001b[0m\u001b[1;33m)\u001b[0m\u001b[1;33m:\u001b[0m\u001b[1;33m\u001b[0m\u001b[1;33m\u001b[0m\u001b[0m\n\u001b[0;32m    224\u001b[0m             return [func(*args, **kwargs)\n\u001b[1;32m--> 225\u001b[1;33m                     for func, args, kwargs in self.items]\n\u001b[0m\u001b[0;32m    226\u001b[0m \u001b[1;33m\u001b[0m\u001b[0m\n\u001b[0;32m    227\u001b[0m     \u001b[1;32mdef\u001b[0m \u001b[0m__len__\u001b[0m\u001b[1;33m(\u001b[0m\u001b[0mself\u001b[0m\u001b[1;33m)\u001b[0m\u001b[1;33m:\u001b[0m\u001b[1;33m\u001b[0m\u001b[1;33m\u001b[0m\u001b[0m\n",
      "\u001b[1;32m~\\Anaconda3\\envs\\W200\\lib\\site-packages\\sklearn\\ensemble\\forest.py\u001b[0m in \u001b[0;36m_parallel_build_trees\u001b[1;34m(tree, forest, X, y, sample_weight, tree_idx, n_trees, verbose, class_weight)\u001b[0m\n\u001b[0;32m    116\u001b[0m             \u001b[0mcurr_sample_weight\u001b[0m \u001b[1;33m*=\u001b[0m \u001b[0mcompute_sample_weight\u001b[0m\u001b[1;33m(\u001b[0m\u001b[1;34m'balanced'\u001b[0m\u001b[1;33m,\u001b[0m \u001b[0my\u001b[0m\u001b[1;33m,\u001b[0m \u001b[0mindices\u001b[0m\u001b[1;33m)\u001b[0m\u001b[1;33m\u001b[0m\u001b[1;33m\u001b[0m\u001b[0m\n\u001b[0;32m    117\u001b[0m \u001b[1;33m\u001b[0m\u001b[0m\n\u001b[1;32m--> 118\u001b[1;33m         \u001b[0mtree\u001b[0m\u001b[1;33m.\u001b[0m\u001b[0mfit\u001b[0m\u001b[1;33m(\u001b[0m\u001b[0mX\u001b[0m\u001b[1;33m,\u001b[0m \u001b[0my\u001b[0m\u001b[1;33m,\u001b[0m \u001b[0msample_weight\u001b[0m\u001b[1;33m=\u001b[0m\u001b[0mcurr_sample_weight\u001b[0m\u001b[1;33m,\u001b[0m \u001b[0mcheck_input\u001b[0m\u001b[1;33m=\u001b[0m\u001b[1;32mFalse\u001b[0m\u001b[1;33m)\u001b[0m\u001b[1;33m\u001b[0m\u001b[1;33m\u001b[0m\u001b[0m\n\u001b[0m\u001b[0;32m    119\u001b[0m     \u001b[1;32melse\u001b[0m\u001b[1;33m:\u001b[0m\u001b[1;33m\u001b[0m\u001b[1;33m\u001b[0m\u001b[0m\n\u001b[0;32m    120\u001b[0m         \u001b[0mtree\u001b[0m\u001b[1;33m.\u001b[0m\u001b[0mfit\u001b[0m\u001b[1;33m(\u001b[0m\u001b[0mX\u001b[0m\u001b[1;33m,\u001b[0m \u001b[0my\u001b[0m\u001b[1;33m,\u001b[0m \u001b[0msample_weight\u001b[0m\u001b[1;33m=\u001b[0m\u001b[0msample_weight\u001b[0m\u001b[1;33m,\u001b[0m \u001b[0mcheck_input\u001b[0m\u001b[1;33m=\u001b[0m\u001b[1;32mFalse\u001b[0m\u001b[1;33m)\u001b[0m\u001b[1;33m\u001b[0m\u001b[1;33m\u001b[0m\u001b[0m\n",
      "\u001b[1;32m~\\Anaconda3\\envs\\W200\\lib\\site-packages\\sklearn\\tree\\tree.py\u001b[0m in \u001b[0;36mfit\u001b[1;34m(self, X, y, sample_weight, check_input, X_idx_sorted)\u001b[0m\n\u001b[0;32m   1155\u001b[0m             \u001b[0msample_weight\u001b[0m\u001b[1;33m=\u001b[0m\u001b[0msample_weight\u001b[0m\u001b[1;33m,\u001b[0m\u001b[1;33m\u001b[0m\u001b[1;33m\u001b[0m\u001b[0m\n\u001b[0;32m   1156\u001b[0m             \u001b[0mcheck_input\u001b[0m\u001b[1;33m=\u001b[0m\u001b[0mcheck_input\u001b[0m\u001b[1;33m,\u001b[0m\u001b[1;33m\u001b[0m\u001b[1;33m\u001b[0m\u001b[0m\n\u001b[1;32m-> 1157\u001b[1;33m             X_idx_sorted=X_idx_sorted)\n\u001b[0m\u001b[0;32m   1158\u001b[0m         \u001b[1;32mreturn\u001b[0m \u001b[0mself\u001b[0m\u001b[1;33m\u001b[0m\u001b[1;33m\u001b[0m\u001b[0m\n\u001b[0;32m   1159\u001b[0m \u001b[1;33m\u001b[0m\u001b[0m\n",
      "\u001b[1;32m~\\Anaconda3\\envs\\W200\\lib\\site-packages\\sklearn\\tree\\tree.py\u001b[0m in \u001b[0;36mfit\u001b[1;34m(self, X, y, sample_weight, check_input, X_idx_sorted)\u001b[0m\n\u001b[0;32m    378\u001b[0m                                            min_impurity_split)\n\u001b[0;32m    379\u001b[0m \u001b[1;33m\u001b[0m\u001b[0m\n\u001b[1;32m--> 380\u001b[1;33m         \u001b[0mbuilder\u001b[0m\u001b[1;33m.\u001b[0m\u001b[0mbuild\u001b[0m\u001b[1;33m(\u001b[0m\u001b[0mself\u001b[0m\u001b[1;33m.\u001b[0m\u001b[0mtree_\u001b[0m\u001b[1;33m,\u001b[0m \u001b[0mX\u001b[0m\u001b[1;33m,\u001b[0m \u001b[0my\u001b[0m\u001b[1;33m,\u001b[0m \u001b[0msample_weight\u001b[0m\u001b[1;33m,\u001b[0m \u001b[0mX_idx_sorted\u001b[0m\u001b[1;33m)\u001b[0m\u001b[1;33m\u001b[0m\u001b[1;33m\u001b[0m\u001b[0m\n\u001b[0m\u001b[0;32m    381\u001b[0m \u001b[1;33m\u001b[0m\u001b[0m\n\u001b[0;32m    382\u001b[0m         \u001b[1;32mif\u001b[0m \u001b[0mself\u001b[0m\u001b[1;33m.\u001b[0m\u001b[0mn_outputs_\u001b[0m \u001b[1;33m==\u001b[0m \u001b[1;36m1\u001b[0m\u001b[1;33m:\u001b[0m\u001b[1;33m\u001b[0m\u001b[1;33m\u001b[0m\u001b[0m\n",
      "\u001b[1;31mKeyboardInterrupt\u001b[0m: "
     ]
    }
   ],
   "source": [
    "# Train the model on training data\n",
    "rf.fit(X_train_a, y_train.meter_reading.ravel())"
   ]
  },
  {
   "cell_type": "code",
   "execution_count": null,
   "metadata": {},
   "outputs": [],
   "source": [
    "# Use the forest's predict method on the test data\n",
    "predictions = rf.predict(test_features)"
   ]
  }
 ],
 "metadata": {
  "kernelspec": {
   "display_name": "Python 3",
   "language": "python",
   "name": "python3"
  },
  "language_info": {
   "codemirror_mode": {
    "name": "ipython",
    "version": 3
   },
   "file_extension": ".py",
   "mimetype": "text/x-python",
   "name": "python",
   "nbconvert_exporter": "python",
   "pygments_lexer": "ipython3",
   "version": "3.7.3"
  }
 },
 "nbformat": 4,
 "nbformat_minor": 2
}
