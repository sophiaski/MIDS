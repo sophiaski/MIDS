{
 "cells": [
  {
   "cell_type": "markdown",
   "metadata": {},
   "source": [
    "# Project 2 - Data cleaning\n",
    "###  Timezone correct meter reading data for merge\n",
    "by: Alissa Stover, Sophia Skowronski, Ying Hua\n",
    "\n",
    "This Jupyter notebook walks through steps to read in and reduce the memory usage of the clean meter reading files. \n",
    "It localizes the timezones and adjusts them for daylight savings time, with data derived from the discussion here: https://www.kaggle.com/patrick0302/locate-cities-according-weather-temperature \n",
    "This code also derives from code found at this URL https://www.kaggle.com/caesarlupum/ashrae-ligthgbm-simple-fe "
   ]
  },
  {
   "cell_type": "code",
   "execution_count": 1,
   "metadata": {},
   "outputs": [],
   "source": [
    "## Import Packages"
   ]
  },
  {
   "cell_type": "code",
   "execution_count": 2,
   "metadata": {},
   "outputs": [],
   "source": [
    "import numpy as np\n",
    "import pandas as pd\n",
    "import pickle"
   ]
  },
  {
   "cell_type": "code",
   "execution_count": 3,
   "metadata": {},
   "outputs": [],
   "source": [
    "# Cleaned train data\n",
    "train_tz_df = pd.read_pickle('train_df_imputed.pkl')\n",
    "train_tz_df[\"timestamp\"] = pd.to_datetime(train_tz_df[\"timestamp\"], format='%Y-%m-%d %H:%M:%S')\n",
    "\n",
    "\n",
    "# Test data\n",
    "test_tz_df = pd.read_csv('test.csv')\n",
    "test_tz_df[\"timestamp\"] = pd.to_datetime(test_tz_df[\"timestamp\"], format='%Y-%m-%d %H:%M:%S')\n",
    "\n",
    "# Building data\n",
    "building_df = pd.read_csv('building_metadata.csv')\n",
    "building_df['primary_use'] = building_df['primary_use'].astype('category')\n",
    "\n",
    "\n",
    "# Timezone data\n",
    "time_zones_df = pd.read_csv('time_zones.csv')"
   ]
  },
  {
   "cell_type": "markdown",
   "metadata": {},
   "source": [
    "## Merge train/test data with timezone data"
   ]
  },
  {
   "cell_type": "code",
   "execution_count": 4,
   "metadata": {},
   "outputs": [],
   "source": [
    "### Merge building data on test data"
   ]
  },
  {
   "cell_type": "code",
   "execution_count": 5,
   "metadata": {},
   "outputs": [],
   "source": [
    "temp_df = test_tz_df[['building_id']]\n",
    "temp_df = temp_df.merge(building_df, on = ['building_id'], how = 'left')\n",
    "\n",
    "del temp_df['building_id']\n",
    "test_tz_df = pd.concat([test_tz_df, temp_df], axis = 1)\n",
    "\n",
    "del temp_df"
   ]
  },
  {
   "cell_type": "markdown",
   "metadata": {},
   "source": [
    "### Merge timezone"
   ]
  },
  {
   "cell_type": "code",
   "execution_count": 6,
   "metadata": {},
   "outputs": [],
   "source": [
    "temp_df = train_tz_df[['site_id']]\n",
    "temp_df = temp_df.merge(time_zones_df, on = ['site_id'], how = 'left')\n",
    "\n",
    "del temp_df['site_id']\n",
    "train_tz_df = pd.concat([train_tz_df, temp_df], axis=1)\n",
    "\n",
    "del temp_df\n",
    "\n",
    "temp_df = test_tz_df[['site_id']]\n",
    "temp_df = temp_df.merge(time_zones_df, on = ['site_id'], how = 'left')\n",
    "\n",
    "del temp_df['site_id']\n",
    "test_tz_df = pd.concat([test_tz_df, temp_df], axis=1)\n",
    "\n",
    "del temp_df"
   ]
  },
  {
   "cell_type": "markdown",
   "metadata": {},
   "source": [
    "## Convert timezones"
   ]
  },
  {
   "cell_type": "markdown",
   "metadata": {},
   "source": [
    "### Prepare daylight savings time column for adjustment"
   ]
  },
  {
   "cell_type": "code",
   "execution_count": 7,
   "metadata": {},
   "outputs": [],
   "source": [
    "train_tz_df['dst'] = 0\n",
    "test_tz_df['dst'] = 0"
   ]
  },
  {
   "cell_type": "code",
   "execution_count": 8,
   "metadata": {},
   "outputs": [],
   "source": [
    "# Train data\n",
    "\n",
    "train_tz_df.loc[((train_tz_df['timezone'] == 'US/Eastern') & (train_tz_df['timestamp'] >= '2016-03-13 02:00:00') & (train_tz_df['timestamp'] < '2016-11-06 01:00:00')), 'dst'] = 1\n",
    "\n",
    "train_tz_df.loc[((train_tz_df['timezone'] == 'US/Mountain') & (train_tz_df['timestamp'] >= '2016-03-13 02:00:00') & (train_tz_df['timestamp'] < '2016-11-06 01:00:00')), 'dst'] = 1\n",
    "\n",
    "train_tz_df.loc[((train_tz_df['timezone'] == 'US/Pacific') & (train_tz_df['timestamp'] >= '2016-03-13 02:00:00') & (train_tz_df['timestamp'] < '2016-11-06 01:00:00')), 'dst'] = 1\n",
    "\n",
    "train_tz_df.loc[((train_tz_df['timezone'] == 'US/Central') & (train_tz_df['timestamp'] >= '2016-03-13 02:00:00') & (train_tz_df['timestamp'] < '2016-11-06 01:00:00')), 'dst'] = 1\n",
    "\n",
    "train_tz_df.loc[((train_tz_df['timezone'] == 'Canada/Eastern') & (train_tz_df['timestamp'] >= '2016-03-13 02:00:00') & (train_tz_df['timestamp'] < '2016-11-06 01:00:00')), 'dst'] = 1\n",
    "\n",
    "train_tz_df.loc[((train_tz_df['timezone'] == 'Europe/London') & (train_tz_df['timestamp'] >= '2016-03-27 01:00:00') & (train_tz_df['timestamp'] < '2016-10-30 02:00:00')), 'dst'] = 1\n",
    "\n",
    "train_tz_df.loc[((train_tz_df['timezone'] == 'Europe/Dublin') & (train_tz_df['timestamp'] >= '2016-03-27 01:00:00') & (train_tz_df['timestamp'] < '2016-10-30 02:00:00')), 'dst'] = 1\n"
   ]
  },
  {
   "cell_type": "code",
   "execution_count": 9,
   "metadata": {},
   "outputs": [],
   "source": [
    "# Test data\n",
    "\n",
    "# 2017\n",
    "\n",
    "test_tz_df.loc[((test_tz_df['timezone'] == 'US/Eastern') & (test_tz_df['timestamp'] >= '2017-03-12 02:00:00') & (test_tz_df['timestamp'] < '2017-11-05 01:00:00')), 'dst'] = 1\n",
    "\n",
    "test_tz_df.loc[((test_tz_df['timezone'] == 'US/Mountain') & (test_tz_df['timestamp'] >= '2017-03-12 02:00:00') & (test_tz_df['timestamp'] < '2017-11-05 01:00:00')), 'dst'] = 1\n",
    "\n",
    "test_tz_df.loc[((test_tz_df['timezone'] == 'US/Pacific') & (test_tz_df['timestamp'] >= '2017-03-12 02:00:00') & (test_tz_df['timestamp'] < '2017-11-05 01:00:00')), 'dst'] = 1\n",
    "\n",
    "test_tz_df.loc[((test_tz_df['timezone'] == 'US/Central') & (test_tz_df['timestamp'] >= '2017-03-12 02:00:00') & (test_tz_df['timestamp'] < '2017-11-05 01:00:00')), 'dst'] = 1\n",
    "\n",
    "test_tz_df.loc[((test_tz_df['timezone'] == 'Canada/Eastern') & (test_tz_df['timestamp'] >= '2017-03-12 02:00:00') & (test_tz_df['timestamp'] < '2017-11-05 01:00:00')), 'dst'] = 1\n",
    "\n",
    "test_tz_df.loc[((test_tz_df['timezone'] == 'Europe/London') & (test_tz_df['timestamp'] >= '2017-03-26 01:00:00') & (test_tz_df['timestamp'] < '2017-10-29 02:00:00')), 'dst'] = 1\n",
    "\n",
    "test_tz_df.loc[((test_tz_df['timezone'] == 'Europe/Dublin') & (test_tz_df['timestamp'] >= '2017-03-26 01:00:00') & (test_tz_df['timestamp'] < '2017-10-29 02:00:00')), 'dst'] = 1\n",
    "\n",
    "# 2018\n",
    "\n",
    "test_tz_df.loc[((test_tz_df['timezone'] == 'US/Eastern') & (test_tz_df['timestamp'] >= '2018-03-11 02:00:00') & (test_tz_df['timestamp'] < '2018-11-04 01:00:00')), 'dst'] = 1\n",
    "\n",
    "test_tz_df.loc[((test_tz_df['timezone'] == 'US/Mountain') & (test_tz_df['timestamp'] >= '2018-03-11 02:00:00') & (test_tz_df['timestamp'] < '2018-11-04 01:00:00')), 'dst'] = 1\n",
    "\n",
    "test_tz_df.loc[((test_tz_df['timezone'] == 'US/Pacific') & (test_tz_df['timestamp'] >= '2018-03-11 02:00:00') & (test_tz_df['timestamp'] < '2018-11-04 01:00:00')), 'dst'] = 1\n",
    "\n",
    "test_tz_df.loc[((test_tz_df['timezone'] == 'US/Central') & (test_tz_df['timestamp'] >= '2018-03-11 02:00:00') & (test_tz_df['timestamp'] < '2018-11-04 01:00:00')), 'dst'] = 1\n",
    "\n",
    "test_tz_df.loc[((test_tz_df['timezone'] == 'Canada/Eastern') & (test_tz_df['timestamp'] >= '2018-03-11 02:00:00') & (test_tz_df['timestamp'] < '2018-11-04 01:00:00')), 'dst'] = 1\n",
    "\n",
    "test_tz_df.loc[((test_tz_df['timezone'] == 'Europe/London') & (test_tz_df['timestamp'] >= '2018-03-25 01:00:00') & (test_tz_df['timestamp'] < '2018-10-28 02:00:00')), 'dst'] = 1\n",
    "\n",
    "test_tz_df.loc[((test_tz_df['timezone'] == 'Europe/Dublin') & (test_tz_df['timestamp'] >= '2018-03-25 01:00:00') & (test_tz_df['timestamp'] < '2018-10-28 02:00:00')), 'dst'] = 1\n",
    "\n"
   ]
  },
  {
   "cell_type": "markdown",
   "metadata": {},
   "source": [
    "### Adjust for daylight savings time"
   ]
  },
  {
   "cell_type": "code",
   "execution_count": 10,
   "metadata": {},
   "outputs": [],
   "source": [
    "from datetime import timedelta \n",
    "train_tz_df.loc[train_tz_df['dst'] == 1, 'timestamp'] += timedelta(hours = 1)\n",
    "test_tz_df.loc[test_tz_df['dst'] == 1, 'timestamp'] += timedelta(hours = 1)\n",
    "\n"
   ]
  },
  {
   "cell_type": "markdown",
   "metadata": {},
   "source": [
    "### Adjust time zones"
   ]
  },
  {
   "cell_type": "code",
   "execution_count": 11,
   "metadata": {},
   "outputs": [],
   "source": [
    "# Train data\n",
    "\n",
    "timezones = train_tz_df.timezone.unique()\n",
    "\n",
    "for i in range(0, len(timezones)):\n",
    "    train_tz_df.loc[(train_tz_df['timezone'] == timezones[i]), 'timestamp'] = train_tz_df.loc[(train_tz_df['timezone'] == timezones[i]), 'timestamp'].dt.tz_localize(timezones[i], ambiguous = True)\n"
   ]
  },
  {
   "cell_type": "code",
   "execution_count": null,
   "metadata": {},
   "outputs": [],
   "source": [
    "test_tz_df.loc[(test_tz_df['timezone'] == 'US/Eastern'), 'timestamp'] = test_tz_df.loc[(test_tz_df['timezone'] == 'US/Eastern'), 'timestamp'].dt.tz_localize('US/Eastern', ambiguous = True)\n",
    "test_tz_df.loc[(test_tz_df['timezone'] == 'US/Central'), 'timestamp'] = test_tz_df.loc[(test_tz_df['timezone'] == 'US/Central'), 'timestamp'].dt.tz_localize('US/Central', ambiguous = True)\n",
    "test_tz_df.loc[(test_tz_df['timezone'] == 'US/Mountain'), 'timestamp'] = test_tz_df.loc[(test_tz_df['timezone'] == 'US/Mountain'), 'timestamp'].dt.tz_localize('US/Mountain', ambiguous = True)\n",
    "test_tz_df.loc[(test_tz_df['timezone'] == 'US/Pacific'), 'timestamp'] = test_tz_df.loc[(test_tz_df['timezone'] == 'US/Pacific'), 'timestamp'].dt.tz_localize('US/Pacific', ambiguous = True)\n",
    "test_tz_df.loc[(test_tz_df['timezone'] == 'Canada/Eastern'), 'timestamp'] = test_tz_df.loc[(test_tz_df['timezone'] == 'Canada/Eastern'), 'timestamp'].dt.tz_localize('Canada/Eastern', ambiguous = True)\n",
    "test_tz_df.loc[(test_tz_df['timezone'] == 'Europe/London'), 'timestamp'] = test_tz_df.loc[(test_tz_df['timezone'] == 'Europe/London'), 'timestamp'].dt.tz_localize('Europe/London', ambiguous = True)\n",
    "test_tz_df.loc[(test_tz_df['timezone'] == 'Europe/Dublin'), 'timestamp'] = test_tz_df.loc[(test_tz_df['timezone'] == 'Europe/Dublin'), 'timestamp'].dt.tz_localize('Europe/Dublin', ambiguous = True)\n"
   ]
  },
  {
   "cell_type": "markdown",
   "metadata": {},
   "source": [
    "## Data Minification\n",
    "\n",
    "Save the final dataframes as pickle files."
   ]
  },
  {
   "cell_type": "code",
   "execution_count": null,
   "metadata": {},
   "outputs": [],
   "source": [
    "train_tz_df.to_pickle('train_imputed_tz_df.pkl')\n",
    "test_tz_df.to_pickle('test_imputed_tz_df.pkl')\n",
    "\n",
    "del train_tz_df, test_tz_df"
   ]
  },
  {
   "cell_type": "markdown",
   "metadata": {},
   "source": [
    "## Using the files\n",
    "To use these files, you must first read them in using the following code."
   ]
  },
  {
   "cell_type": "code",
   "execution_count": null,
   "metadata": {},
   "outputs": [],
   "source": [
    "train_tz_df = pd.read_pickle('train_imputed_tz_df.pkl')\n",
    "test_tz_df = pd.read_pickle('test_imputed_tz_df.pkl')"
   ]
  }
 ],
 "metadata": {
  "kernelspec": {
   "display_name": "Python 3",
   "language": "python",
   "name": "python3"
  },
  "language_info": {
   "codemirror_mode": {
    "name": "ipython",
    "version": 3
   },
   "file_extension": ".py",
   "mimetype": "text/x-python",
   "name": "python",
   "nbconvert_exporter": "python",
   "pygments_lexer": "ipython3",
   "version": "3.7.3"
  }
 },
 "nbformat": 4,
 "nbformat_minor": 2
}
