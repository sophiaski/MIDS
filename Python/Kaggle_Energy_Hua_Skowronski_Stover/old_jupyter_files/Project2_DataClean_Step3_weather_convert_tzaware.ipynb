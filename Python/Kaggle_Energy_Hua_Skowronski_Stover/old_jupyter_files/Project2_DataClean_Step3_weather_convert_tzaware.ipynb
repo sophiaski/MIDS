{
 "cells": [
  {
   "cell_type": "markdown",
   "metadata": {},
   "source": [
    "# Project 2 - Data cleaning\n",
    "###  Converting weather data for merge\n",
    "by: Alissa Stover, Sophia Skowronski, Ying Hua\n",
    "\n",
    "This Jupyter notebook timezone-corrects the weather data; see discussion here for the source of timezone data: https://www.kaggle.com/patrick0302/locate-cities-according-weather-temperature \n",
    "\n",
    "It also derives from code found at this URL https://www.kaggle.com/caesarlupum/ashrae-ligthgbm-simple-fe "
   ]
  },
  {
   "cell_type": "markdown",
   "metadata": {},
   "source": [
    "## Import Packages"
   ]
  },
  {
   "cell_type": "code",
   "execution_count": 1,
   "metadata": {},
   "outputs": [],
   "source": [
    "import numpy as np\n",
    "import pandas as pd\n",
    "import pickle"
   ]
  },
  {
   "cell_type": "markdown",
   "metadata": {},
   "source": [
    "## Read in Data"
   ]
  },
  {
   "cell_type": "code",
   "execution_count": 2,
   "metadata": {},
   "outputs": [],
   "source": [
    "# Train data\n",
    "weather_train_tz_df = pd.read_csv('weather_train.csv')\n",
    "\n",
    "# Test data\n",
    "weather_test_tz_df = pd.read_csv ('weather_test.csv')\n",
    "\n",
    "# Timezone data\n",
    "time_zones_df = pd.read_csv('time_zones.csv')"
   ]
  },
  {
   "cell_type": "markdown",
   "metadata": {},
   "source": [
    "## Adjust weather data timezones"
   ]
  },
  {
   "cell_type": "markdown",
   "metadata": {},
   "source": [
    "### Merge weather & time zone data"
   ]
  },
  {
   "cell_type": "code",
   "execution_count": 3,
   "metadata": {},
   "outputs": [],
   "source": [
    "# Train data\n",
    "temp_df = weather_train_tz_df[['site_id']]\n",
    "temp_df = temp_df.merge(time_zones_df, on = ['site_id'], how = 'left')\n",
    "\n",
    "del temp_df['site_id']\n",
    "weather_train_tz_df = pd.concat([weather_train_tz_df, temp_df], axis=1)\n",
    "\n",
    "del temp_df"
   ]
  },
  {
   "cell_type": "code",
   "execution_count": 4,
   "metadata": {},
   "outputs": [],
   "source": [
    "# Test data\n",
    "temp_df = weather_test_tz_df[['site_id']]\n",
    "temp_df = temp_df.merge(time_zones_df, on = ['site_id'], how = 'left')\n",
    "\n",
    "del temp_df['site_id']\n",
    "weather_test_tz_df = pd.concat([weather_test_tz_df, temp_df], axis=1)\n",
    "\n",
    "del temp_df"
   ]
  },
  {
   "cell_type": "markdown",
   "metadata": {},
   "source": [
    "### Localize timestamps to UTC"
   ]
  },
  {
   "cell_type": "code",
   "execution_count": 5,
   "metadata": {},
   "outputs": [],
   "source": [
    "# Train data\n",
    "weather_train_tz_df['timestamp'] = pd.to_datetime(weather_train_tz_df['timestamp'])\n",
    "weather_train_tz_df.timestamp = weather_train_tz_df.timestamp.dt.tz_localize('UTC')"
   ]
  },
  {
   "cell_type": "code",
   "execution_count": 6,
   "metadata": {},
   "outputs": [],
   "source": [
    "# Test data\n",
    "weather_test_tz_df['timestamp'] = pd.to_datetime(weather_test_tz_df['timestamp'])\n",
    "weather_test_tz_df.timestamp = weather_test_tz_df.timestamp.dt.tz_localize('UTC')"
   ]
  },
  {
   "cell_type": "markdown",
   "metadata": {},
   "source": [
    "### Adjust timestamp to local timezone, then rename columns "
   ]
  },
  {
   "cell_type": "code",
   "execution_count": 7,
   "metadata": {},
   "outputs": [
    {
     "name": "stdout",
     "output_type": "stream",
     "text": [
      "Index(['site_id', 'timestamp_utc', 'air_temperature', 'cloud_coverage',\n",
      "       'dew_temperature', 'precip_depth_1_hr', 'sea_level_pressure',\n",
      "       'wind_direction', 'wind_speed', 'timezone', 'country_code', 'location',\n",
      "       'timestamp'],\n",
      "      dtype='object')\n"
     ]
    }
   ],
   "source": [
    "# Train data\n",
    "weather_train_tz_df['timestamp_tz'] = [weather_train_tz_df['timestamp'][i].tz_convert(weather_train_tz_df['timezone'][i]) for i in range(0, len(weather_train_tz_df['timestamp']))]                                      \n",
    "weather_train_tz_df = weather_train_tz_df.rename(columns={\"timestamp\": \"timestamp_utc\", \"timestamp_tz\": \"timestamp\"})\n",
    "print(weather_train_tz_df.columns)\n"
   ]
  },
  {
   "cell_type": "code",
   "execution_count": 8,
   "metadata": {},
   "outputs": [
    {
     "name": "stdout",
     "output_type": "stream",
     "text": [
      "Index(['site_id', 'timestamp_utc', 'air_temperature', 'cloud_coverage',\n",
      "       'dew_temperature', 'precip_depth_1_hr', 'sea_level_pressure',\n",
      "       'wind_direction', 'wind_speed', 'timezone', 'country_code', 'location',\n",
      "       'timestamp'],\n",
      "      dtype='object')\n"
     ]
    }
   ],
   "source": [
    "# Test data\n",
    "weather_test_tz_df['timestamp_tz'] = [weather_test_tz_df['timestamp'][i].tz_convert(weather_test_tz_df['timezone'][i]) for i in range(0, len(weather_test_tz_df['timestamp']))]                                      \n",
    "weather_test_tz_df = weather_test_tz_df.rename(columns={\"timestamp\": \"timestamp_utc\", \"timestamp_tz\": \"timestamp\"})\n",
    "print(weather_test_tz_df.columns)"
   ]
  },
  {
   "cell_type": "markdown",
   "metadata": {},
   "source": [
    "## Data Minification"
   ]
  },
  {
   "cell_type": "code",
   "execution_count": 9,
   "metadata": {},
   "outputs": [],
   "source": [
    "weather_train_tz_df.to_pickle('weather_train_tz_df.pkl')\n",
    "weather_train_tz_df.to_pickle('weather_test_tz_df.pkl')\n",
    "\n",
    "del weather_train_tz_df, weather_test_tz_df"
   ]
  },
  {
   "cell_type": "markdown",
   "metadata": {},
   "source": [
    "### Using the files\n",
    "To use these files, you must first read them in using the following code."
   ]
  },
  {
   "cell_type": "code",
   "execution_count": 10,
   "metadata": {},
   "outputs": [],
   "source": [
    "weather_train_tz_df = pd.read_pickle('weather_train_tz_df.pkl')\n",
    "weather_test_tz_df = pd.read_pickle('weather_test_tz_df.pkl')"
   ]
  }
 ],
 "metadata": {
  "kernelspec": {
   "display_name": "Python 3",
   "language": "python",
   "name": "python3"
  },
  "language_info": {
   "codemirror_mode": {
    "name": "ipython",
    "version": 3
   },
   "file_extension": ".py",
   "mimetype": "text/x-python",
   "name": "python",
   "nbconvert_exporter": "python",
   "pygments_lexer": "ipython3",
   "version": "3.7.3"
  }
 },
 "nbformat": 4,
 "nbformat_minor": 2
}
